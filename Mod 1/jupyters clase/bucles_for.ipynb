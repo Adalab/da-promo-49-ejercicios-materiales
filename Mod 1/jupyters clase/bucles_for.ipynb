{
 "cells": [
  {
   "cell_type": "markdown",
   "metadata": {},
   "source": [
    "# for\n",
    "\n",
    "    - itera sobre secuencias (pasa por todos los elementos de un \"contenedor\")\n",
    "    - podemos iterar por:\n",
    "        - listas\n",
    "        - tuplas\n",
    "        - diccionarios\n",
    "        - cadenas"
   ]
  },
  {
   "cell_type": "code",
   "execution_count": 36,
   "metadata": {},
   "outputs": [
    {
     "ename": "TypeError",
     "evalue": "'float' object is not iterable",
     "output_type": "error",
     "traceback": [
      "\u001b[1;31m---------------------------------------------------------------------------\u001b[0m",
      "\u001b[1;31mTypeError\u001b[0m                                 Traceback (most recent call last)",
      "Cell \u001b[1;32mIn[36], line 3\u001b[0m\n\u001b[0;32m      1\u001b[0m num \u001b[38;5;241m=\u001b[39m \u001b[38;5;241m1874879087.49587854\u001b[39m\n\u001b[1;32m----> 3\u001b[0m \u001b[38;5;28;43;01mfor\u001b[39;49;00m\u001b[43m \u001b[49m\u001b[43mi\u001b[49m\u001b[43m \u001b[49m\u001b[38;5;129;43;01min\u001b[39;49;00m\u001b[43m \u001b[49m\u001b[43mnum\u001b[49m\u001b[43m:\u001b[49m\n\u001b[0;32m      4\u001b[0m \u001b[43m    \u001b[49m\u001b[38;5;28;43mprint\u001b[39;49m\u001b[43m(\u001b[49m\u001b[43mi\u001b[49m\u001b[43m)\u001b[49m\n",
      "\u001b[1;31mTypeError\u001b[0m: 'float' object is not iterable"
     ]
    }
   ],
   "source": [
    "num = 1874879087.49587854\n",
    "\n",
    "for i in num:\n",
    "    print(i)"
   ]
  },
  {
   "cell_type": "code",
   "execution_count": 33,
   "metadata": {},
   "outputs": [
    {
     "name": "stdout",
     "output_type": "stream",
     "text": [
      "H\n",
      "-------------------------\n",
      "o\n",
      "-------------------------\n",
      "y\n",
      "-------------------------\n",
      " \n",
      "-------------------------\n",
      "e\n",
      "-------------------------\n",
      "s\n",
      "-------------------------\n",
      " \n",
      "-------------------------\n",
      "v\n",
      "-------------------------\n",
      "i\n",
      "-------------------------\n",
      "e\n",
      "-------------------------\n",
      "r\n",
      "-------------------------\n",
      "n\n",
      "-------------------------\n",
      "e\n",
      "-------------------------\n",
      "s\n",
      "-------------------------\n",
      " \n",
      "-------------------------\n",
      "🙌\n",
      "-------------------------\n"
     ]
    }
   ],
   "source": [
    "cadena = \"Hoy es viernes 🙌\"\n",
    "\n",
    "for letra in cadena:\n",
    "    print(letra)\n",
    "    print(\"-------------------------\")"
   ]
  },
  {
   "cell_type": "code",
   "execution_count": 34,
   "metadata": {},
   "outputs": [
    {
     "data": {
      "text/plain": [
       "16"
      ]
     },
     "execution_count": 34,
     "metadata": {},
     "output_type": "execute_result"
    }
   ],
   "source": [
    "len(cadena)"
   ]
  },
  {
   "cell_type": "code",
   "execution_count": 31,
   "metadata": {},
   "outputs": [
    {
     "name": "stdout",
     "output_type": "stream",
     "text": [
      "Marina\n",
      "-----------------------------------------------\n",
      "Maleni\n",
      "-----------------------------------------------\n",
      "Sara\n",
      "-----------------------------------------------\n"
     ]
    }
   ],
   "source": [
    "alumnas = [\"Marina\", \"Maleni\", \"Sara\"]\n",
    "\n",
    "for nombre in alumnas:\n",
    "    print(nombre)\n",
    "    print(\"-----------------------------------------------\")"
   ]
  },
  {
   "cell_type": "code",
   "execution_count": 35,
   "metadata": {},
   "outputs": [
    {
     "data": {
      "text/plain": [
       "3"
      ]
     },
     "execution_count": 35,
     "metadata": {},
     "output_type": "execute_result"
    }
   ],
   "source": [
    "len(alumnas)"
   ]
  },
  {
   "cell_type": "code",
   "execution_count": 38,
   "metadata": {},
   "outputs": [
    {
     "name": "stdout",
     "output_type": "stream",
     "text": [
      "23\n",
      "------------------------------\n",
      "54\n",
      "------------------------------\n",
      "12\n",
      "------------------------------\n",
      "37\n",
      "------------------------------\n"
     ]
    }
   ],
   "source": [
    "edades = [23, 54, 12, 37]\n",
    "\n",
    "for elemento in edades:\n",
    "    print(elemento)\n",
    "    print(\"------------------------------\")"
   ]
  },
  {
   "cell_type": "code",
   "execution_count": 40,
   "metadata": {},
   "outputs": [
    {
     "data": {
      "text/plain": [
       "5400"
      ]
     },
     "execution_count": 40,
     "metadata": {},
     "output_type": "execute_result"
    }
   ],
   "source": [
    "54 * 100"
   ]
  },
  {
   "cell_type": "code",
   "execution_count": 41,
   "metadata": {},
   "outputs": [
    {
     "name": "stdout",
     "output_type": "stream",
     "text": [
      "2300\n",
      "------------------------------\n",
      "5400\n",
      "------------------------------\n",
      "1200\n",
      "------------------------------\n",
      "3700\n",
      "------------------------------\n"
     ]
    }
   ],
   "source": [
    "edades = [23, 54, 12, 37]\n",
    "\n",
    "for elemento in edades:\n",
    "    print(elemento*100)\n",
    "    print(\"------------------------------\")"
   ]
  },
  {
   "cell_type": "code",
   "execution_count": 46,
   "metadata": {},
   "outputs": [],
   "source": [
    "numeros = [1,2,3,4,5,6,7,8,9,10]"
   ]
  },
  {
   "cell_type": "code",
   "execution_count": null,
   "metadata": {},
   "outputs": [],
   "source": [
    "\n",
    "\n",
    "if x % 2 == 0:\n",
    "    print(x)"
   ]
  },
  {
   "cell_type": "code",
   "execution_count": 42,
   "metadata": {},
   "outputs": [],
   "source": [
    "if 1 % 2 == 0:\n",
    "    print(1)"
   ]
  },
  {
   "cell_type": "code",
   "execution_count": 43,
   "metadata": {},
   "outputs": [
    {
     "name": "stdout",
     "output_type": "stream",
     "text": [
      "2\n"
     ]
    }
   ],
   "source": [
    "if 2 % 2 == 0:\n",
    "    print(2)"
   ]
  },
  {
   "cell_type": "code",
   "execution_count": 44,
   "metadata": {},
   "outputs": [],
   "source": [
    "if 3 % 2 == 0:\n",
    "    print(3)"
   ]
  },
  {
   "cell_type": "code",
   "execution_count": 49,
   "metadata": {},
   "outputs": [
    {
     "name": "stdout",
     "output_type": "stream",
     "text": [
      "2\n",
      "4\n",
      "6\n",
      "8\n",
      "10\n"
     ]
    }
   ],
   "source": [
    "for n in numeros:\n",
    "    if n % 2 == 0:\n",
    "        print(n)\n",
    "    else:\n",
    "        pass"
   ]
  },
  {
   "cell_type": "code",
   "execution_count": 50,
   "metadata": {},
   "outputs": [
    {
     "name": "stdout",
     "output_type": "stream",
     "text": [
      "impar\n",
      "2\n",
      "impar\n",
      "4\n",
      "impar\n",
      "6\n",
      "impar\n",
      "8\n",
      "impar\n",
      "10\n"
     ]
    }
   ],
   "source": [
    "for n in numeros:\n",
    "    if n % 2 == 0:\n",
    "        print(n)\n",
    "    else:\n",
    "        print(\"impar\")"
   ]
  },
  {
   "cell_type": "code",
   "execution_count": 58,
   "metadata": {},
   "outputs": [
    {
     "name": "stdout",
     "output_type": "stream",
     "text": [
      "0\n",
      "--------------------------------------------------------\n",
      "1\n",
      "--------------------------------------------------------\n",
      "2\n",
      "he entrado en if\n",
      "--------------------------------------------------------\n",
      "3\n",
      "--------------------------------------------------------\n",
      "4\n",
      "--------------------------------------------------------\n",
      "['2']\n"
     ]
    }
   ],
   "source": [
    "lista_str = []\n",
    "\n",
    "for i in range(5):\n",
    "    print(i)\n",
    "    if i == 2:\n",
    "        print(\"he entrado en if\")\n",
    "        lista_str.append(str(i))\n",
    "\n",
    "    print(\"--------------------------------------------------------\")\n",
    "\n",
    "print(lista_str)\n"
   ]
  },
  {
   "cell_type": "code",
   "execution_count": 62,
   "metadata": {},
   "outputs": [
    {
     "name": "stdout",
     "output_type": "stream",
     "text": [
      "[]\n",
      "0\n",
      "--------------------------------------------------------\n",
      "[]\n",
      "1\n",
      "--------------------------------------------------------\n",
      "[]\n",
      "2\n",
      "--------------------------------------------------------\n",
      "[]\n",
      "3\n",
      "--------------------------------------------------------\n",
      "[]\n",
      "4\n",
      "he entrado en if\n",
      "--------------------------------------------------------\n",
      "['4']\n"
     ]
    }
   ],
   "source": [
    "\n",
    "\n",
    "for i in range(5):\n",
    "    lista_str = []\n",
    "    \n",
    "    print(lista_str)\n",
    "    print(i)\n",
    "    if i == 4:\n",
    "        print(\"he entrado en if\")\n",
    "        lista_str.append(str(i))\n",
    "    \n",
    "    print(\"--------------------------------------------------------\")\n",
    "\n",
    "print(lista_str)"
   ]
  },
  {
   "cell_type": "code",
   "execution_count": 63,
   "metadata": {},
   "outputs": [
    {
     "name": "stdout",
     "output_type": "stream",
     "text": [
      "0\n",
      "1\n",
      "2\n",
      "3\n",
      "4\n",
      "[4]\n"
     ]
    }
   ],
   "source": [
    "for i in range(5):\n",
    "    lista_num = []\n",
    "    lista_num.append(i)\n",
    "    print(i)\n",
    "\n",
    "\n",
    "print(lista_num)"
   ]
  },
  {
   "cell_type": "code",
   "execution_count": 64,
   "metadata": {},
   "outputs": [
    {
     "name": "stdout",
     "output_type": "stream",
     "text": [
      "0\n",
      "1\n",
      "2\n",
      "3\n",
      "4\n",
      "[0, 1, 2, 3, 4]\n"
     ]
    }
   ],
   "source": [
    "lista_num = []\n",
    "\n",
    "for i in range(5):\n",
    "    \n",
    "    lista_num.append(i)\n",
    "    print(i)\n",
    "\n",
    "\n",
    "print(lista_num)"
   ]
  },
  {
   "cell_type": "code",
   "execution_count": 81,
   "metadata": {},
   "outputs": [
    {
     "name": "stdout",
     "output_type": "stream",
     "text": [
      "12 [2, 4, 6]\n",
      "9 [1, 3, 5]\n"
     ]
    }
   ],
   "source": [
    "# 14. Pide al usuario un número entero positivo y suma los números pares e impares por separado hasta ese número.\n",
    "numero = int(input(\"Ingresa un número entero positivo: \"))\n",
    "pares = []\n",
    "impares = []\n",
    "\n",
    "for i in range(1,numero+1):\n",
    "\n",
    "    if i % 2 == 0:\n",
    "        pares.append(i)\n",
    "\n",
    "    else:\n",
    "        impares.append(i)\n",
    "\n",
    "print(sum(pares), pares)\n",
    "print(sum(impares), impares)"
   ]
  },
  {
   "cell_type": "code",
   "execution_count": 75,
   "metadata": {},
   "outputs": [
    {
     "name": "stdout",
     "output_type": "stream",
     "text": [
      "1\n",
      "2\n",
      "3\n",
      "4\n",
      "5\n",
      "6\n"
     ]
    }
   ],
   "source": [
    "numero = int(input(\"Ingresa un número entero positivo: \"))\n",
    "\n",
    "for i in range(1, numero+1):\n",
    "    print(i)"
   ]
  },
  {
   "cell_type": "code",
   "execution_count": 85,
   "metadata": {},
   "outputs": [
    {
     "name": "stdout",
     "output_type": "stream",
     "text": [
      "12\n",
      "9\n"
     ]
    }
   ],
   "source": [
    "# numero = int(input(\"Ingresa un número entero positivo: \"))\n",
    "pares = 0\n",
    "impares = 0\n",
    "\n",
    "for i in range(1,7):\n",
    "\n",
    "    if i % 2 == 0:\n",
    "        pares += i # pares = pares + i\n",
    "\n",
    "    else:\n",
    "        impares += i\n",
    "\n",
    "print(pares)\n",
    "print(impares)"
   ]
  },
  {
   "cell_type": "code",
   "execution_count": 82,
   "metadata": {},
   "outputs": [
    {
     "name": "stdout",
     "output_type": "stream",
     "text": [
      "7\n"
     ]
    }
   ],
   "source": [
    "pares = 0\n",
    "\n",
    "pares = pares + 7\n",
    "\n",
    "print(pares)"
   ]
  },
  {
   "cell_type": "code",
   "execution_count": 83,
   "metadata": {},
   "outputs": [
    {
     "name": "stdout",
     "output_type": "stream",
     "text": [
      "7\n"
     ]
    }
   ],
   "source": [
    "pares = 0\n",
    "\n",
    "pares += 7\n",
    "\n",
    "print(pares)"
   ]
  },
  {
   "cell_type": "code",
   "execution_count": 88,
   "metadata": {},
   "outputs": [],
   "source": [
    "compra = {\"tomates\": 3, \"manzanas\": 5}"
   ]
  },
  {
   "cell_type": "code",
   "execution_count": 89,
   "metadata": {},
   "outputs": [
    {
     "name": "stdout",
     "output_type": "stream",
     "text": [
      "tomates\n",
      "manzanas\n"
     ]
    }
   ],
   "source": [
    "for elemento in compra:\n",
    "    print(elemento)\n"
   ]
  },
  {
   "cell_type": "code",
   "execution_count": 95,
   "metadata": {},
   "outputs": [],
   "source": [
    "unidades = 0\n",
    "\n",
    "for elemento in compra.values():\n",
    "    unidades += elemento\n"
   ]
  },
  {
   "cell_type": "code",
   "execution_count": 96,
   "metadata": {},
   "outputs": [
    {
     "name": "stdout",
     "output_type": "stream",
     "text": [
      "8\n"
     ]
    }
   ],
   "source": [
    "print(unidades)"
   ]
  },
  {
   "cell_type": "code",
   "execution_count": 97,
   "metadata": {},
   "outputs": [
    {
     "data": {
      "text/plain": [
       "dict_items([('tomates', 3), ('manzanas', 5)])"
      ]
     },
     "execution_count": 97,
     "metadata": {},
     "output_type": "execute_result"
    }
   ],
   "source": [
    "compra.items()"
   ]
  },
  {
   "cell_type": "code",
   "execution_count": 99,
   "metadata": {},
   "outputs": [
    {
     "name": "stdout",
     "output_type": "stream",
     "text": [
      "tomates -> 3\n",
      "---------------------------\n",
      "manzanas -> 5\n",
      "---------------------------\n"
     ]
    }
   ],
   "source": [
    "for key, value in compra.items():\n",
    "    print(key, \"->\", value)\n",
    "    print(\"---------------------------\")"
   ]
  },
  {
   "cell_type": "code",
   "execution_count": 100,
   "metadata": {},
   "outputs": [
    {
     "ename": "ValueError",
     "evalue": "too many values to unpack (expected 2)",
     "output_type": "error",
     "traceback": [
      "\u001b[1;31m---------------------------------------------------------------------------\u001b[0m",
      "\u001b[1;31mValueError\u001b[0m                                Traceback (most recent call last)",
      "Cell \u001b[1;32mIn[100], line 1\u001b[0m\n\u001b[1;32m----> 1\u001b[0m \u001b[38;5;28;01mfor\u001b[39;00m key, value \u001b[38;5;129;01min\u001b[39;00m compra:\n\u001b[0;32m      2\u001b[0m     \u001b[38;5;28mprint\u001b[39m(key, \u001b[38;5;124m\"\u001b[39m\u001b[38;5;124m->\u001b[39m\u001b[38;5;124m\"\u001b[39m, value)\n\u001b[0;32m      3\u001b[0m     \u001b[38;5;28mprint\u001b[39m(\u001b[38;5;124m\"\u001b[39m\u001b[38;5;124m---------------------------\u001b[39m\u001b[38;5;124m\"\u001b[39m)\n",
      "\u001b[1;31mValueError\u001b[0m: too many values to unpack (expected 2)"
     ]
    }
   ],
   "source": [
    "for key, value in compra:\n",
    "    print(key, \"->\", value)\n",
    "    print(\"---------------------------\")"
   ]
  },
  {
   "cell_type": "code",
   "execution_count": 102,
   "metadata": {},
   "outputs": [
    {
     "name": "stdout",
     "output_type": "stream",
     "text": [
      "('tomates', 3)\n",
      "---------------------------\n",
      "('manzanas', 5)\n",
      "---------------------------\n"
     ]
    }
   ],
   "source": [
    "for k in compra.items():\n",
    "    print(k)\n",
    "    print(\"---------------------------\")"
   ]
  },
  {
   "cell_type": "code",
   "execution_count": 103,
   "metadata": {},
   "outputs": [],
   "source": [
    "t = ('tomates', 3)"
   ]
  },
  {
   "cell_type": "code",
   "execution_count": 104,
   "metadata": {},
   "outputs": [],
   "source": [
    "a , b = t"
   ]
  },
  {
   "cell_type": "code",
   "execution_count": 105,
   "metadata": {},
   "outputs": [
    {
     "data": {
      "text/plain": [
       "'tomates'"
      ]
     },
     "execution_count": 105,
     "metadata": {},
     "output_type": "execute_result"
    }
   ],
   "source": [
    "a"
   ]
  },
  {
   "cell_type": "code",
   "execution_count": 106,
   "metadata": {},
   "outputs": [
    {
     "data": {
      "text/plain": [
       "3"
      ]
     },
     "execution_count": 106,
     "metadata": {},
     "output_type": "execute_result"
    }
   ],
   "source": [
    "b"
   ]
  },
  {
   "cell_type": "code",
   "execution_count": 109,
   "metadata": {},
   "outputs": [],
   "source": [
    "temp = [\"1\", \"2\", \"3\"]"
   ]
  },
  {
   "cell_type": "code",
   "execution_count": 108,
   "metadata": {},
   "outputs": [
    {
     "ename": "TypeError",
     "evalue": "int() argument must be a string, a bytes-like object or a real number, not 'list'",
     "output_type": "error",
     "traceback": [
      "\u001b[1;31m---------------------------------------------------------------------------\u001b[0m",
      "\u001b[1;31mTypeError\u001b[0m                                 Traceback (most recent call last)",
      "Cell \u001b[1;32mIn[108], line 1\u001b[0m\n\u001b[1;32m----> 1\u001b[0m \u001b[38;5;28;43mint\u001b[39;49m\u001b[43m(\u001b[49m\u001b[43mtemp\u001b[49m\u001b[43m)\u001b[49m\n",
      "\u001b[1;31mTypeError\u001b[0m: int() argument must be a string, a bytes-like object or a real number, not 'list'"
     ]
    }
   ],
   "source": [
    "int(temp)"
   ]
  },
  {
   "cell_type": "code",
   "execution_count": 110,
   "metadata": {},
   "outputs": [
    {
     "name": "stdout",
     "output_type": "stream",
     "text": [
      "[1, 2, 3]\n"
     ]
    }
   ],
   "source": [
    "temp = [int(temp[0]), int(temp[1]), int(temp[2])]\n",
    "\n",
    "print(temp)"
   ]
  },
  {
   "cell_type": "code",
   "execution_count": 111,
   "metadata": {},
   "outputs": [],
   "source": [
    "temp = [\"1\", \"2\", \"3\"]"
   ]
  },
  {
   "cell_type": "code",
   "execution_count": 112,
   "metadata": {},
   "outputs": [
    {
     "data": {
      "text/plain": [
       "[1, 2, 3]"
      ]
     },
     "execution_count": 112,
     "metadata": {},
     "output_type": "execute_result"
    }
   ],
   "source": [
    "temp_2 = []\n",
    "\n",
    "for t in temp:\n",
    "    temp_2.append(int(t))\n",
    "\n",
    "temp_2"
   ]
  },
  {
   "cell_type": "code",
   "execution_count": 113,
   "metadata": {},
   "outputs": [
    {
     "ename": "ValueError",
     "evalue": "invalid literal for int() with base 10: 'manzanas'",
     "output_type": "error",
     "traceback": [
      "\u001b[1;31m---------------------------------------------------------------------------\u001b[0m",
      "\u001b[1;31mValueError\u001b[0m                                Traceback (most recent call last)",
      "Cell \u001b[1;32mIn[113], line 6\u001b[0m\n\u001b[0;32m      3\u001b[0m temp_2 \u001b[38;5;241m=\u001b[39m []\n\u001b[0;32m      5\u001b[0m \u001b[38;5;28;01mfor\u001b[39;00m t \u001b[38;5;129;01min\u001b[39;00m temp:\n\u001b[1;32m----> 6\u001b[0m     temp_2\u001b[38;5;241m.\u001b[39mappend(\u001b[38;5;28;43mint\u001b[39;49m\u001b[43m(\u001b[49m\u001b[43mt\u001b[49m\u001b[43m)\u001b[49m)\n\u001b[0;32m      8\u001b[0m temp_2\n",
      "\u001b[1;31mValueError\u001b[0m: invalid literal for int() with base 10: 'manzanas'"
     ]
    }
   ],
   "source": [
    "temp = [\"1\", \"2\", \"manzanas\"]\n",
    "\n",
    "temp_2 = []\n",
    "\n",
    "for t in temp:\n",
    "    temp_2.append(int(t))\n",
    "\n",
    "temp_2"
   ]
  },
  {
   "cell_type": "code",
   "execution_count": 118,
   "metadata": {},
   "outputs": [
    {
     "name": "stdout",
     "output_type": "stream",
     "text": [
      "no puedo\n"
     ]
    },
    {
     "data": {
      "text/plain": [
       "[1, 2, 4]"
      ]
     },
     "execution_count": 118,
     "metadata": {},
     "output_type": "execute_result"
    }
   ],
   "source": [
    "temp = [\"1\", \"2\", \"manzanas\", \"4\"]\n",
    "\n",
    "temp_2 = []\n",
    "\n",
    "for t in temp:\n",
    "    try:\n",
    "        temp_2.append(int(t))\n",
    "    except:\n",
    "        print(\"no puedo\")\n",
    "\n",
    "temp_2"
   ]
  },
  {
   "cell_type": "code",
   "execution_count": 115,
   "metadata": {},
   "outputs": [
    {
     "name": "stdout",
     "output_type": "stream",
     "text": [
      "no puedo\n"
     ]
    }
   ],
   "source": [
    "try:\n",
    "    int(\"manzanas\")\n",
    "except:\n",
    "    print(\"no puedo\")"
   ]
  },
  {
   "cell_type": "code",
   "execution_count": 126,
   "metadata": {},
   "outputs": [
    {
     "name": "stdout",
     "output_type": "stream",
     "text": [
      "no puedo manzanas\n"
     ]
    },
    {
     "data": {
      "text/plain": [
       "[1, 2, 4]"
      ]
     },
     "execution_count": 126,
     "metadata": {},
     "output_type": "execute_result"
    }
   ],
   "source": [
    "temp = [\"1\", \"2\", \"manzanas\", \"4\"]\n",
    "\n",
    "temp_2 = []\n",
    "\n",
    "for t in temp:\n",
    "    try:\n",
    "        temp_2.append(int(t))\n",
    "\n",
    "    except:\n",
    "        \n",
    "        print(\"no puedo\", t)\n",
    "        continue\n",
    "        \n",
    "        \n",
    "\n",
    "temp_2"
   ]
  },
  {
   "cell_type": "code",
   "execution_count": null,
   "metadata": {},
   "outputs": [],
   "source": []
  },
  {
   "cell_type": "code",
   "execution_count": null,
   "metadata": {},
   "outputs": [],
   "source": []
  }
 ],
 "metadata": {
  "kernelspec": {
   "display_name": "promo_m",
   "language": "python",
   "name": "python3"
  },
  "language_info": {
   "codemirror_mode": {
    "name": "ipython",
    "version": 3
   },
   "file_extension": ".py",
   "mimetype": "text/x-python",
   "name": "python",
   "nbconvert_exporter": "python",
   "pygments_lexer": "ipython3",
   "version": "3.11.11"
  }
 },
 "nbformat": 4,
 "nbformat_minor": 2
}

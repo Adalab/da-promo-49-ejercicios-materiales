{
 "cells": [
  {
   "cell_type": "markdown",
   "metadata": {},
   "source": [
    "\n",
    "Método constructor\n",
    "\n",
    "Nombre de la tienda.\n",
    "\n",
    "Diccionario vacío para almacenar los productos. Ejemplo diccionario: {id_producto: [nombre, precio, stock]}\n",
    "\n",
    "Diccionario vacío para almacenar los clientes. Ejemplo diccionario: {id_cliente: [nombre, email]}\n",
    "\n",
    "Lista vacía para registrar las ventas. Ejemplo lista: [(id_venta, id_cliente, id_producto, cantidad)]"
   ]
  },
  {
   "cell_type": "markdown",
   "metadata": {},
   "source": [
    "## Método agregar_producto(id_producto, nombre, precio, stock):\n",
    "\n",
    "Este método permite agregar un nuevo producto al inventario del ecommerce.\n",
    "\n",
    "Verifica si el producto ya existe en el inventario antes de agregarlo.\n",
    "\n",
    "Retorna un mensaje de éxito si el producto se agrega correctamente."
   ]
  },
  {
   "cell_type": "markdown",
   "metadata": {},
   "source": [
    "## Método eliminar_producto(id_producto):\n",
    "\n",
    "Elimina un producto específico del inventario.\n",
    "\n",
    "También elimina las ventas asociadas al producto eliminado.\n",
    "\n",
    "Retorna un mensaje indicando si el producto se eliminó con éxito o si no se encontró en el inventario."
   ]
  },
  {
   "cell_type": "markdown",
   "metadata": {},
   "source": [
    "## Método agregar_cliente(id_cliente, nombre, email):\n",
    "\n",
    "Agrega un nuevo cliente a la base de datos de clientes.\n",
    "\n",
    "Verifica si el cliente ya existe en la base de datos antes de agregarlo.\n",
    "\n",
    "Retorna un mensaje de éxito si el cliente se agrega correctamente."
   ]
  },
  {
   "cell_type": "code",
   "execution_count": 76,
   "metadata": {},
   "outputs": [],
   "source": [
    "class Ecommerce:\n",
    "\n",
    "    def __init__(self, nombre):\n",
    "\n",
    "        self.nombre = nombre\n",
    "        self.clientes = {}\n",
    "        self.productos = {}\n",
    "        self.ventas = []"
   ]
  },
  {
   "cell_type": "code",
   "execution_count": 77,
   "metadata": {},
   "outputs": [],
   "source": [
    "class Ecommerce:\n",
    "\n",
    "    def __init__(self, nombre):\n",
    "\n",
    "        self.nombre = nombre\n",
    "        self.clientes = {}\n",
    "        self.productos = {}\n",
    "        self.ventas = []\n",
    "\n",
    "    def agregar_producto(self, id_producto, nombre, precio, stock):\n",
    "\n",
    "        p = {id_producto: [nombre, precio, stock]}\n",
    "        \n",
    "        if id_producto in self.productos.keys():\n",
    "            print(\"ya existe\")\n",
    "\n",
    "        else:\n",
    "            self.productos.update(p)\n",
    "            print(\"no existe, lo hemos insertado\")"
   ]
  },
  {
   "cell_type": "code",
   "execution_count": 56,
   "metadata": {},
   "outputs": [],
   "source": [
    "class Ecommerce:\n",
    "\n",
    "    def __init__(self, nombre):\n",
    "\n",
    "        self.nombre = nombre\n",
    "        self.clientes = {}\n",
    "        self.productos = {}\n",
    "        self.ventas = []\n",
    "\n",
    "    def agregar_producto(self, id_producto, nombre, precio, stock):\n",
    "\n",
    "        p = {id_producto: [nombre, precio, stock]}\n",
    "        \n",
    "        if id_producto in self.productos.keys():\n",
    "            print(\"ya existe\")\n",
    "\n",
    "        else:\n",
    "            self.productos.update(p)\n",
    "            print(\"no existe, lo hemos insertado\")\n",
    "\n",
    "    def agregar_productos_2(self, id_producto, nombre, precio, stock):\n",
    "\n",
    "        if id_producto in self.productos.keys(): # compruebo si el id está en las claves del diccionario\n",
    "            print(\"ya existe\")\n",
    "\n",
    "        else:\n",
    "            self.productos[id_producto] = [nombre, precio, stock]\n",
    "            print(\"no existe, lo hemos insertado\")\n",
    "\n",
    "    def eliminar_producto(self, id_producto):\n",
    "\n",
    "        if id_producto in self.productos.keys():\n",
    "            self.productos.pop(id_producto)\n",
    "\n",
    "            # añadir la eliminación de las ventas de ese producto\n",
    "\n",
    "        else:\n",
    "            print(\"el producto no existe\")\n",
    "\n",
    "    def agregar_cliente(self, id_cliente, nombre, email):\n",
    "\n",
    "        if id_cliente in self.clientes:\n",
    "\n",
    "            print(f\"el cliente con id {id_cliente} y nombre {nombre} ya existe\")\n",
    "\n",
    "        else:\n",
    "\n",
    "            self.clientes[id_cliente] = [nombre, email]\n",
    "\n"
   ]
  },
  {
   "cell_type": "code",
   "execution_count": 61,
   "metadata": {},
   "outputs": [],
   "source": [
    "tienda = Ecommerce(\"mi tienduca\")"
   ]
  },
  {
   "cell_type": "code",
   "execution_count": 62,
   "metadata": {},
   "outputs": [
    {
     "data": {
      "text/plain": [
       "{'nombre': 'mi tienduca', 'clientes': {}, 'productos': {}, 'ventas': []}"
      ]
     },
     "execution_count": 62,
     "metadata": {},
     "output_type": "execute_result"
    }
   ],
   "source": [
    "tienda.__dict__"
   ]
  },
  {
   "cell_type": "code",
   "execution_count": 63,
   "metadata": {},
   "outputs": [
    {
     "name": "stdout",
     "output_type": "stream",
     "text": [
      "no existe, lo hemos insertado\n"
     ]
    }
   ],
   "source": [
    "tienda.agregar_producto(1, \"patatas\", 27, 100)"
   ]
  },
  {
   "cell_type": "code",
   "execution_count": 64,
   "metadata": {},
   "outputs": [
    {
     "data": {
      "text/plain": [
       "{'nombre': 'mi tienduca',\n",
       " 'clientes': {},\n",
       " 'productos': {1: ['patatas', 27, 100]},\n",
       " 'ventas': []}"
      ]
     },
     "execution_count": 64,
     "metadata": {},
     "output_type": "execute_result"
    }
   ],
   "source": [
    "tienda.__dict__"
   ]
  },
  {
   "cell_type": "code",
   "execution_count": 65,
   "metadata": {},
   "outputs": [
    {
     "name": "stdout",
     "output_type": "stream",
     "text": [
      "el producto no existe\n"
     ]
    }
   ],
   "source": [
    "tienda.eliminar_producto(2)"
   ]
  },
  {
   "cell_type": "code",
   "execution_count": 66,
   "metadata": {},
   "outputs": [],
   "source": [
    "tienda.eliminar_producto(1)"
   ]
  },
  {
   "cell_type": "code",
   "execution_count": 67,
   "metadata": {},
   "outputs": [
    {
     "data": {
      "text/plain": [
       "{'nombre': 'mi tienduca', 'clientes': {}, 'productos': {}, 'ventas': []}"
      ]
     },
     "execution_count": 67,
     "metadata": {},
     "output_type": "execute_result"
    }
   ],
   "source": [
    "tienda.__dict__"
   ]
  },
  {
   "cell_type": "code",
   "execution_count": 68,
   "metadata": {},
   "outputs": [],
   "source": [
    "tienda.agregar_cliente(1, \"Cesar\", \"cesar@mi_sitio.com\")"
   ]
  },
  {
   "cell_type": "code",
   "execution_count": 69,
   "metadata": {},
   "outputs": [
    {
     "data": {
      "text/plain": [
       "{'nombre': 'mi tienduca',\n",
       " 'clientes': {1: ['Cesar', 'cesar@mi_sitio.com']},\n",
       " 'productos': {},\n",
       " 'ventas': []}"
      ]
     },
     "execution_count": 69,
     "metadata": {},
     "output_type": "execute_result"
    }
   ],
   "source": [
    "tienda.__dict__"
   ]
  },
  {
   "cell_type": "code",
   "execution_count": 70,
   "metadata": {},
   "outputs": [
    {
     "name": "stdout",
     "output_type": "stream",
     "text": [
      "no existe, lo hemos insertado\n"
     ]
    }
   ],
   "source": [
    "tienda.agregar_producto(1, \"patatas\", 27, 100)"
   ]
  },
  {
   "cell_type": "code",
   "execution_count": 71,
   "metadata": {},
   "outputs": [
    {
     "name": "stdout",
     "output_type": "stream",
     "text": [
      "no existe, lo hemos insertado\n"
     ]
    }
   ],
   "source": [
    "tienda.agregar_producto(2, \"pepinos\", 21, 45)"
   ]
  },
  {
   "cell_type": "code",
   "execution_count": 72,
   "metadata": {},
   "outputs": [
    {
     "data": {
      "text/plain": [
       "{'nombre': 'mi tienduca',\n",
       " 'clientes': {1: ['Cesar', 'cesar@mi_sitio.com']},\n",
       " 'productos': {1: ['patatas', 27, 100], 2: ['pepinos', 21, 45]},\n",
       " 'ventas': []}"
      ]
     },
     "execution_count": 72,
     "metadata": {},
     "output_type": "execute_result"
    }
   ],
   "source": [
    "tienda.__dict__"
   ]
  },
  {
   "cell_type": "code",
   "execution_count": 73,
   "metadata": {},
   "outputs": [
    {
     "name": "stdout",
     "output_type": "stream",
     "text": [
      "ya existe\n"
     ]
    }
   ],
   "source": [
    "tienda.agregar_productos_2(2, \"pepinos\", 21, 45)"
   ]
  },
  {
   "cell_type": "code",
   "execution_count": 74,
   "metadata": {},
   "outputs": [
    {
     "name": "stdout",
     "output_type": "stream",
     "text": [
      "no existe, lo hemos insertado\n"
     ]
    }
   ],
   "source": [
    "tienda.agregar_productos_2(3, \"cebollas\", 12, 450)"
   ]
  },
  {
   "cell_type": "code",
   "execution_count": 75,
   "metadata": {},
   "outputs": [
    {
     "data": {
      "text/plain": [
       "{'nombre': 'mi tienduca',\n",
       " 'clientes': {1: ['Cesar', 'cesar@mi_sitio.com']},\n",
       " 'productos': {1: ['patatas', 27, 100],\n",
       "  2: ['pepinos', 21, 45],\n",
       "  3: ['cebollas', 12, 450]},\n",
       " 'ventas': []}"
      ]
     },
     "execution_count": 75,
     "metadata": {},
     "output_type": "execute_result"
    }
   ],
   "source": [
    "tienda.__dict__"
   ]
  },
  {
   "cell_type": "code",
   "execution_count": 26,
   "metadata": {},
   "outputs": [],
   "source": [
    "productos = {}\n",
    "id = 1\n",
    "valor = [\"patatas\", 27, 100]\n",
    "\n",
    "productos[id] = valor"
   ]
  },
  {
   "cell_type": "code",
   "execution_count": 27,
   "metadata": {},
   "outputs": [
    {
     "data": {
      "text/plain": [
       "{1: ['patatas', 27, 100]}"
      ]
     },
     "execution_count": 27,
     "metadata": {},
     "output_type": "execute_result"
    }
   ],
   "source": [
    "productos"
   ]
  },
  {
   "cell_type": "code",
   "execution_count": null,
   "metadata": {},
   "outputs": [],
   "source": []
  },
  {
   "cell_type": "code",
   "execution_count": null,
   "metadata": {},
   "outputs": [],
   "source": []
  },
  {
   "cell_type": "code",
   "execution_count": null,
   "metadata": {},
   "outputs": [],
   "source": []
  },
  {
   "cell_type": "code",
   "execution_count": null,
   "metadata": {},
   "outputs": [],
   "source": []
  },
  {
   "cell_type": "code",
   "execution_count": null,
   "metadata": {},
   "outputs": [],
   "source": []
  },
  {
   "cell_type": "code",
   "execution_count": null,
   "metadata": {},
   "outputs": [],
   "source": []
  },
  {
   "cell_type": "code",
   "execution_count": null,
   "metadata": {},
   "outputs": [],
   "source": []
  },
  {
   "cell_type": "code",
   "execution_count": null,
   "metadata": {},
   "outputs": [],
   "source": []
  },
  {
   "cell_type": "code",
   "execution_count": null,
   "metadata": {},
   "outputs": [],
   "source": []
  },
  {
   "cell_type": "code",
   "execution_count": null,
   "metadata": {},
   "outputs": [],
   "source": []
  }
 ],
 "metadata": {
  "kernelspec": {
   "display_name": "promo_m",
   "language": "python",
   "name": "python3"
  },
  "language_info": {
   "codemirror_mode": {
    "name": "ipython",
    "version": 3
   },
   "file_extension": ".py",
   "mimetype": "text/x-python",
   "name": "python",
   "nbconvert_exporter": "python",
   "pygments_lexer": "ipython3",
   "version": "3.11.11"
  }
 },
 "nbformat": 4,
 "nbformat_minor": 2
}

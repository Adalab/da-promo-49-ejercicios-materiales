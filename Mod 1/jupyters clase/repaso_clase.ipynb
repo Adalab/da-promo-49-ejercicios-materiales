{
 "cells": [
  {
   "cell_type": "code",
   "execution_count": 27,
   "metadata": {},
   "outputs": [
    {
     "name": "stdout",
     "output_type": "stream",
     "text": [
      "ahorros iniciales 5\n",
      "ahorros finales 10\n",
      "👌👌👌👌👌👌👌👌👌👌\n",
      "ahorros iniciales 10\n",
      "ahorros finales 15\n",
      "👌👌👌👌👌👌👌👌👌👌\n",
      "ahorros iniciales 15\n",
      "ahorros finales 20\n",
      "👌👌👌👌👌👌👌👌👌👌\n",
      "ahorros iniciales 20\n",
      "ahorros finales 25\n",
      "👌👌👌👌👌👌👌👌👌👌\n",
      "25\n"
     ]
    }
   ],
   "source": [
    "# 12. Inicia la varible `ahorros` con un valor de `5`. \n",
    "# Crea un bucle while que mientras los ahorros sean igual a o menor que `20` imprima por pantalla la cantidad de ahorros que tenemos,\n",
    "# y añádele `5` más. \n",
    "# Cuando la variable ahorros supere el valor de 20 el bucle deberá parar. \n",
    "\n",
    "ahorros = 5\n",
    "\n",
    "while ahorros <= 20:\n",
    "    print(f\"ahorros iniciales {ahorros}\")\n",
    "    ahorros += 5\n",
    "    print(\"ahorros finales\", ahorros)\n",
    "    print(\"👌\"*10)\n",
    "\n",
    "print(ahorros)\n",
    "    "
   ]
  },
  {
   "cell_type": "code",
   "execution_count": 18,
   "metadata": {},
   "outputs": [
    {
     "name": "stdout",
     "output_type": "stream",
     "text": [
      "22\n"
     ]
    }
   ],
   "source": [
    "print(ahorros)"
   ]
  },
  {
   "cell_type": "code",
   "execution_count": null,
   "metadata": {},
   "outputs": [],
   "source": [
    "print(\"Ahorros iniciales\", ahorros, \"pero entonces bli bli\", variable, \"y no se que\", variable2)"
   ]
  },
  {
   "cell_type": "code",
   "execution_count": 11,
   "metadata": {},
   "outputs": [
    {
     "data": {
      "text/plain": [
       "False"
      ]
     },
     "execution_count": 11,
     "metadata": {},
     "output_type": "execute_result"
    }
   ],
   "source": [
    "ahorros = 25\n",
    "\n",
    "ahorros <= 20"
   ]
  },
  {
   "cell_type": "code",
   "execution_count": 62,
   "metadata": {},
   "outputs": [
    {
     "name": "stdout",
     "output_type": "stream",
     "text": [
      "5.0 <class 'float'>\n",
      "S <class 'str'>\n",
      "Estás soltera\n",
      "el impuesto anual es: 0.5\n"
     ]
    }
   ],
   "source": [
    "# Solicita el ingreso anual y el estado civil al usuario\n",
    "\n",
    "ingreso_anual = float(input(\"Cuánto ganas al año?\"))\n",
    "print(ingreso_anual, type(ingreso_anual))\n",
    "estado_civil = input(\"Estado civil (S/C)\")\n",
    "print(estado_civil, type(estado_civil))\n",
    "\n",
    "if estado_civil.upper() == \"S\" or estado_civil.lower() == \"soltera\":\n",
    "    print(\"Estás soltera\")\n",
    "\n",
    "    if ingreso_anual <= 9875:\n",
    "        impuesto = ingreso_anual * 0.10\n",
    "        print(\"el impuesto anual es:\", impuesto)\n",
    "\n",
    "    elif ingreso_anual <= 40125:\n",
    "        impuesto = (9875 * 0.10) + (ingreso_anual - 9875) * 0.12\n",
    "        print(\"el impuesto anual es:\", impuesto)\n",
    "\n",
    "    else:\n",
    "        print(\"welcome to Andorra\")\n",
    "    \n",
    "elif estado_civil.upper() == \"C\" or estado_civil.lower() == \"casada\":\n",
    "    print(\"Estás casada\")\n",
    "\n",
    "    if ingreso_anual <= 19850:\n",
    "        impuesto = ingreso_anual * 0.10\n",
    "        print(\"el impuesto anual es:\", impuesto)\n",
    "\n",
    "    elif ingreso_anual <= 80250:\n",
    "        impuesto = (19850 * 0.10) + (ingreso_anual - 19850) * 0.12\n",
    "        print(\"el impuesto anual es:\", impuesto)\n",
    "\n",
    "    else:\n",
    "        print(\"welcome to Andorra\")\n",
    "\n",
    "else:\n",
    "    print(\"No entiendo tu estado civil\")"
   ]
  },
  {
   "cell_type": "code",
   "execution_count": 39,
   "metadata": {},
   "outputs": [
    {
     "data": {
      "text/plain": [
       "True"
      ]
     },
     "execution_count": 39,
     "metadata": {},
     "output_type": "execute_result"
    }
   ],
   "source": [
    "int(\"42\") == 42"
   ]
  },
  {
   "cell_type": "code",
   "execution_count": 51,
   "metadata": {},
   "outputs": [
    {
     "name": "stdout",
     "output_type": "stream",
     "text": [
      "soltera <class 'str'>\n",
      "Estás soltera\n"
     ]
    }
   ],
   "source": [
    "estado_civil = input(\"Estado civil (S/C)\")\n",
    "print(estado_civil, type(estado_civil))\n",
    "\n",
    "if estado_civil.upper() == \"S\" or estado_civil.lower() == \"soltera\":\n",
    "    print(\"Estás soltera\")\n",
    "\n",
    "else:\n",
    "    print(\"Estás casada\")"
   ]
  },
  {
   "cell_type": "code",
   "execution_count": 52,
   "metadata": {},
   "outputs": [
    {
     "data": {
      "text/plain": [
       "True"
      ]
     },
     "execution_count": 52,
     "metadata": {},
     "output_type": "execute_result"
    }
   ],
   "source": [
    "estado = \"S\" # operador de asiganación -> le asigna un valor a la variable\n",
    "\n",
    "estado == \"S\" # operador de comparación, devuelve True si la comparación es cierta"
   ]
  },
  {
   "cell_type": "code",
   "execution_count": 59,
   "metadata": {},
   "outputs": [
    {
     "name": "stdout",
     "output_type": "stream",
     "text": [
      "S <class 'str'>\n",
      "Estás soltera\n"
     ]
    }
   ],
   "source": [
    "estado_civil = \"S\"\n",
    "estado_civil = estado_civil.upper()\n",
    "print(estado_civil, type(estado_civil))\n",
    "\n",
    "if estado_civil == \"S\" or estado_civil.lower() == \"soltera\":\n",
    "    print(\"Estás soltera\")\n",
    "\n",
    "else:\n",
    "    print(\"Estás casada\")"
   ]
  },
  {
   "cell_type": "code",
   "execution_count": 64,
   "metadata": {},
   "outputs": [
    {
     "name": "stdout",
     "output_type": "stream",
     "text": [
      "no es vocal\n"
     ]
    }
   ],
   "source": [
    "letra = input(\"introduce una letra\")\n",
    "\n",
    "vocales = [\"a\", \"e\", \"i\",\"o\", \"u\"]\n",
    "\n",
    "if letra in vocales:\n",
    "    print(\"es vocal\")\n",
    "\n",
    "else:\n",
    "    print(\"no es vocal\")"
   ]
  },
  {
   "cell_type": "code",
   "execution_count": 75,
   "metadata": {},
   "outputs": [
    {
     "name": "stdout",
     "output_type": "stream",
     "text": [
      "te has confundido, prueba otra vez\n",
      "te has confundido, prueba otra vez\n",
      "te has confundido, prueba otra vez\n",
      "te has confundido, prueba otra vez\n",
      "f\n"
     ]
    }
   ],
   "source": [
    "letra = input(\"introduce una vocal\")\n",
    "intentos = 4\n",
    "vocales = [\"a\", \"e\", \"i\",\"o\", \"u\"]\n",
    "\n",
    "while letra not in vocales and intentos > 0:\n",
    "\n",
    "    print(\"te has confundido, prueba otra vez\")\n",
    "    letra = input(\"introduce una letra\")\n",
    "    intentos -= 1\n",
    "\n",
    "print(letra)\n"
   ]
  },
  {
   "cell_type": "code",
   "execution_count": 66,
   "metadata": {},
   "outputs": [
    {
     "data": {
      "text/plain": [
       "True"
      ]
     },
     "execution_count": 66,
     "metadata": {},
     "output_type": "execute_result"
    }
   ],
   "source": [
    "letra = \"c\"\n",
    "\n",
    "vocales = [\"a\", \"e\", \"i\",\"o\", \"u\"]\n",
    "\n",
    "letra not in vocales"
   ]
  },
  {
   "cell_type": "code",
   "execution_count": 71,
   "metadata": {},
   "outputs": [
    {
     "name": "stdout",
     "output_type": "stream",
     "text": [
      "The Zen of Python, by Tim Peters\n",
      "\n",
      "Beautiful is better than ugly.\n",
      "Explicit is better than implicit.\n",
      "Simple is better than complex.\n",
      "Complex is better than complicated.\n",
      "Flat is better than nested.\n",
      "Sparse is better than dense.\n",
      "Readability counts.\n",
      "Special cases aren't special enough to break the rules.\n",
      "Although practicality beats purity.\n",
      "Errors should never pass silently.\n",
      "Unless explicitly silenced.\n",
      "In the face of ambiguity, refuse the temptation to guess.\n",
      "There should be one-- and preferably only one --obvious way to do it.\n",
      "Although that way may not be obvious at first unless you're Dutch.\n",
      "Now is better than never.\n",
      "Although never is often better than *right* now.\n",
      "If the implementation is hard to explain, it's a bad idea.\n",
      "If the implementation is easy to explain, it may be a good idea.\n",
      "Namespaces are one honking great idea -- let's do more of those!\n"
     ]
    }
   ],
   "source": [
    "import this"
   ]
  },
  {
   "cell_type": "code",
   "execution_count": null,
   "metadata": {},
   "outputs": [],
   "source": []
  },
  {
   "cell_type": "code",
   "execution_count": null,
   "metadata": {},
   "outputs": [],
   "source": []
  },
  {
   "cell_type": "code",
   "execution_count": null,
   "metadata": {},
   "outputs": [],
   "source": []
  },
  {
   "cell_type": "code",
   "execution_count": null,
   "metadata": {},
   "outputs": [],
   "source": []
  },
  {
   "cell_type": "code",
   "execution_count": null,
   "metadata": {},
   "outputs": [],
   "source": []
  },
  {
   "cell_type": "code",
   "execution_count": null,
   "metadata": {},
   "outputs": [],
   "source": []
  },
  {
   "cell_type": "code",
   "execution_count": 16,
   "metadata": {},
   "outputs": [
    {
     "name": "stdout",
     "output_type": "stream",
     "text": [
      "25\n"
     ]
    }
   ],
   "source": [
    "print(ahorros)"
   ]
  },
  {
   "cell_type": "code",
   "execution_count": null,
   "metadata": {},
   "outputs": [],
   "source": []
  }
 ],
 "metadata": {
  "kernelspec": {
   "display_name": "promo_m",
   "language": "python",
   "name": "python3"
  },
  "language_info": {
   "codemirror_mode": {
    "name": "ipython",
    "version": 3
   },
   "file_extension": ".py",
   "mimetype": "text/x-python",
   "name": "python",
   "nbconvert_exporter": "python",
   "pygments_lexer": "ipython3",
   "version": "3.11.11"
  }
 },
 "nbformat": 4,
 "nbformat_minor": 2
}

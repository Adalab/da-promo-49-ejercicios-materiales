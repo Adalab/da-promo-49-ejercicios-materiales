{
 "cells": [
  {
   "cell_type": "markdown",
   "metadata": {},
   "source": [
    "Resumen\n",
    "+ : coincide con el carácter precedente una o más veces.\n",
    "* : coincide con el carácter precedente cero o más veces u opcional\n",
    "? : indica cero o una ocurrencia del elemento precedente.\n",
    ". : coincide con cualquier carácter individual.\n",
    "^ : coincide con la posición inicial de cualquier string\n",
    "$ : coincide con la posición final de cualquier string\n",
    "\n",
    "Sintaxis básica de regex\n",
    "\\w: buscaremos cualquier caracter de tipo alfabético.\n",
    "\\d: buscaremos cualquier caracter de tipo númerico.\n",
    "\\s: buscaremos los espacios en nuestro string.\n",
    "\\n: buscaremos los saltos de línea en nuestro string.\n",
    "\\W: buscaremos cualquier caracter que no sea una letra.\n",
    "\\D: buscaremos cualquier caracter que no sea un dígito.\n",
    "\\S: buscaremos cualquier elemento que no sea un espacio en nuestro string\n",
    "() : aísla sólo una parte de nuestro patrón de búsqueda que queremos devolver, es decir, captura un grupo.\n",
    "[] : incluye todos los caracteres que queremos que coincidan e incluso incluye rangos como este: a-z y 0-9. 🚨 Nota [^ch] coincide con todas las cadenas que NO empiezan por ch\n",
    "| : es como el operador or que conocemos de Python\n",
    "\\ : señala una secuencia especial ( escapar caracteres especiales).\n",
    "{}: Exactamente el número especificado de ocurrencias\n",
    "{n}: Exactamente n veces\n",
    "{n,}: Al menos n veces\n",
    "{n,m}: Entre n y m veces\n",
    "\n",
    "Métodos:\n",
    "findall : devuelve una lista con todas las coincidencias:\n",
    "sub : reemplaza una o varias coincidencias con un string especificado.\n",
    "split : devuelve una lista en la que el string ha sido dividido en cada coincidencia.\n",
    "match : busca el patrón de expresión regular y devuelve la primera ocurrencia.\n",
    "search : devuelve un objeto Match si hay una coincidencia en cualquier parte de la cadena."
   ]
  },
  {
   "cell_type": "code",
   "execution_count": 7,
   "metadata": {},
   "outputs": [],
   "source": [
    "import re"
   ]
  },
  {
   "cell_type": "code",
   "execution_count": 8,
   "metadata": {},
   "outputs": [],
   "source": [
    "fechas = [\"Jan 1994\", \"Oct 1997\", \"Nov 1999\"]"
   ]
  },
  {
   "cell_type": "code",
   "execution_count": 9,
   "metadata": {},
   "outputs": [
    {
     "name": "stdout",
     "output_type": "stream",
     "text": [
      "Jan 1994\n",
      "Oct 1997\n",
      "Nov 1999\n"
     ]
    }
   ],
   "source": [
    "for i in fechas:\n",
    "    print(i)"
   ]
  },
  {
   "cell_type": "code",
   "execution_count": 10,
   "metadata": {},
   "outputs": [],
   "source": [
    "f = \"Jan 1995\""
   ]
  },
  {
   "cell_type": "code",
   "execution_count": 11,
   "metadata": {},
   "outputs": [],
   "source": [
    "patron = \"\\d\""
   ]
  },
  {
   "cell_type": "code",
   "execution_count": 12,
   "metadata": {},
   "outputs": [
    {
     "data": {
      "text/plain": [
       "['1', '9', '9', '4']"
      ]
     },
     "execution_count": 12,
     "metadata": {},
     "output_type": "execute_result"
    }
   ],
   "source": [
    "re.findall(patron, f)"
   ]
  },
  {
   "cell_type": "code",
   "execution_count": 13,
   "metadata": {},
   "outputs": [
    {
     "data": {
      "text/plain": [
       "['1', '9', '9', '4']"
      ]
     },
     "execution_count": 13,
     "metadata": {},
     "output_type": "execute_result"
    }
   ],
   "source": [
    "re.findall(\"\\d\", f)"
   ]
  },
  {
   "cell_type": "code",
   "execution_count": 15,
   "metadata": {},
   "outputs": [],
   "source": [
    "patron_2 = \"\\d{4}\""
   ]
  },
  {
   "cell_type": "code",
   "execution_count": 16,
   "metadata": {},
   "outputs": [
    {
     "data": {
      "text/plain": [
       "['1994']"
      ]
     },
     "execution_count": 16,
     "metadata": {},
     "output_type": "execute_result"
    }
   ],
   "source": [
    "re.findall(patron_2, f)"
   ]
  },
  {
   "cell_type": "code",
   "execution_count": 17,
   "metadata": {},
   "outputs": [
    {
     "data": {
      "text/plain": [
       "['1994']"
      ]
     },
     "execution_count": 17,
     "metadata": {},
     "output_type": "execute_result"
    }
   ],
   "source": [
    "re.findall(\"\\d{4}\", f)"
   ]
  },
  {
   "cell_type": "code",
   "execution_count": 18,
   "metadata": {},
   "outputs": [
    {
     "data": {
      "text/plain": [
       "['Jan']"
      ]
     },
     "execution_count": 18,
     "metadata": {},
     "output_type": "execute_result"
    }
   ],
   "source": [
    "re.findall(\"Jan\", f)"
   ]
  },
  {
   "cell_type": "code",
   "execution_count": 19,
   "metadata": {},
   "outputs": [
    {
     "data": {
      "text/plain": [
       "'Jan 1994'"
      ]
     },
     "execution_count": 19,
     "metadata": {},
     "output_type": "execute_result"
    }
   ],
   "source": [
    "f"
   ]
  },
  {
   "cell_type": "code",
   "execution_count": 20,
   "metadata": {},
   "outputs": [
    {
     "data": {
      "text/plain": [
       "['Jan 1994', 'Oct 1997', 'Nov 1999']"
      ]
     },
     "execution_count": 20,
     "metadata": {},
     "output_type": "execute_result"
    }
   ],
   "source": [
    "fechas"
   ]
  },
  {
   "cell_type": "code",
   "execution_count": 21,
   "metadata": {},
   "outputs": [
    {
     "name": "stdout",
     "output_type": "stream",
     "text": [
      "['1994']\n",
      "['1997']\n",
      "['1999']\n"
     ]
    }
   ],
   "source": [
    "for i in fechas:\n",
    "    print(re.findall(\"\\d{4}\", i))"
   ]
  },
  {
   "cell_type": "code",
   "execution_count": 22,
   "metadata": {},
   "outputs": [
    {
     "data": {
      "text/plain": [
       "'Jan 1994'"
      ]
     },
     "execution_count": 22,
     "metadata": {},
     "output_type": "execute_result"
    }
   ],
   "source": [
    "f"
   ]
  },
  {
   "cell_type": "code",
   "execution_count": 30,
   "metadata": {},
   "outputs": [
    {
     "data": {
      "text/plain": [
       "['Jan', '1994']"
      ]
     },
     "execution_count": 30,
     "metadata": {},
     "output_type": "execute_result"
    }
   ],
   "source": [
    "f.split(sep = \" \")"
   ]
  },
  {
   "cell_type": "code",
   "execution_count": 25,
   "metadata": {},
   "outputs": [
    {
     "data": {
      "text/plain": [
       "'1994'"
      ]
     },
     "execution_count": 25,
     "metadata": {},
     "output_type": "execute_result"
    }
   ],
   "source": [
    "f.split(\" \")[1]"
   ]
  },
  {
   "cell_type": "code",
   "execution_count": 26,
   "metadata": {},
   "outputs": [
    {
     "name": "stdout",
     "output_type": "stream",
     "text": [
      "1994\n",
      "1997\n",
      "1999\n"
     ]
    }
   ],
   "source": [
    "for i in fechas:\n",
    "    print(i.split(\" \")[1])"
   ]
  },
  {
   "cell_type": "code",
   "execution_count": 31,
   "metadata": {},
   "outputs": [],
   "source": [
    "fechas_2 = [\"Jan 1994\", \"Oct 1997\", \"Nov 1999\", \"2021 Oct\"]"
   ]
  },
  {
   "cell_type": "code",
   "execution_count": 32,
   "metadata": {},
   "outputs": [
    {
     "name": "stdout",
     "output_type": "stream",
     "text": [
      "1994\n",
      "1997\n",
      "1999\n",
      "Oct\n"
     ]
    }
   ],
   "source": [
    "for i in fechas_2:\n",
    "    print(i.split(\" \")[1])"
   ]
  },
  {
   "cell_type": "code",
   "execution_count": 33,
   "metadata": {},
   "outputs": [
    {
     "name": "stdout",
     "output_type": "stream",
     "text": [
      "['1994']\n",
      "['1997']\n",
      "['1999']\n",
      "['2021']\n"
     ]
    }
   ],
   "source": [
    "for i in fechas_2:\n",
    "    print(re.findall(\"\\d{4}\", i))"
   ]
  },
  {
   "cell_type": "code",
   "execution_count": null,
   "metadata": {},
   "outputs": [],
   "source": [
    "# ejercicio: extrea los elemntos de la siguiente lista que tienen formato pdf\n",
    "archivos = [\"leccion1.pdf\", \"leccion3.csv\", \"leccion2.pdf\", \"leccion4.csv\"]"
   ]
  },
  {
   "cell_type": "markdown",
   "metadata": {},
   "source": [
    "# Repasito"
   ]
  },
  {
   "cell_type": "code",
   "execution_count": null,
   "metadata": {},
   "outputs": [],
   "source": [
    "# ejercicio números primos\n",
    "# NOTA: Según la Wikipedia, un número primo es un número natural mayor que 1 que no tiene divisores positivos más que 1 y él mismo."
   ]
  },
  {
   "cell_type": "code",
   "execution_count": 76,
   "metadata": {},
   "outputs": [
    {
     "data": {
      "text/plain": [
       "True"
      ]
     },
     "execution_count": 76,
     "metadata": {},
     "output_type": "execute_result"
    }
   ],
   "source": [
    "16 % 2 == 0"
   ]
  },
  {
   "cell_type": "code",
   "execution_count": 40,
   "metadata": {},
   "outputs": [],
   "source": [
    "num = 4"
   ]
  },
  {
   "cell_type": "code",
   "execution_count": 41,
   "metadata": {},
   "outputs": [
    {
     "data": {
      "text/plain": [
       "True"
      ]
     },
     "execution_count": 41,
     "metadata": {},
     "output_type": "execute_result"
    }
   ],
   "source": [
    "num % 1 == 0"
   ]
  },
  {
   "cell_type": "code",
   "execution_count": 42,
   "metadata": {},
   "outputs": [
    {
     "data": {
      "text/plain": [
       "True"
      ]
     },
     "execution_count": 42,
     "metadata": {},
     "output_type": "execute_result"
    }
   ],
   "source": [
    "num % 2 == 0"
   ]
  },
  {
   "cell_type": "code",
   "execution_count": 43,
   "metadata": {},
   "outputs": [
    {
     "data": {
      "text/plain": [
       "False"
      ]
     },
     "execution_count": 43,
     "metadata": {},
     "output_type": "execute_result"
    }
   ],
   "source": [
    "num % 3 == 0\n"
   ]
  },
  {
   "cell_type": "code",
   "execution_count": 44,
   "metadata": {},
   "outputs": [],
   "source": [
    "num = 3"
   ]
  },
  {
   "cell_type": "code",
   "execution_count": 45,
   "metadata": {},
   "outputs": [
    {
     "data": {
      "text/plain": [
       "False"
      ]
     },
     "execution_count": 45,
     "metadata": {},
     "output_type": "execute_result"
    }
   ],
   "source": [
    "num % 2 == 0"
   ]
  },
  {
   "cell_type": "code",
   "execution_count": 46,
   "metadata": {},
   "outputs": [
    {
     "data": {
      "text/plain": [
       "True"
      ]
     },
     "execution_count": 46,
     "metadata": {},
     "output_type": "execute_result"
    }
   ],
   "source": [
    "num % 3 == 0"
   ]
  },
  {
   "cell_type": "code",
   "execution_count": 47,
   "metadata": {},
   "outputs": [],
   "source": [
    "num = 27"
   ]
  },
  {
   "cell_type": "code",
   "execution_count": 63,
   "metadata": {},
   "outputs": [
    {
     "name": "stdout",
     "output_type": "stream",
     "text": [
      "2\n",
      "es primo\n"
     ]
    }
   ],
   "source": [
    "for n in range(2, 3):\n",
    "    print(n)\n",
    "    if 3 % n == 0:\n",
    "        print(\"no es primo\")\n",
    "        break\n",
    "    print(\"es primo\")"
   ]
  },
  {
   "cell_type": "code",
   "execution_count": 75,
   "metadata": {},
   "outputs": [
    {
     "name": "stdout",
     "output_type": "stream",
     "text": [
      "-------------------------\n",
      "3 -> 2\n",
      "-------------------------\n",
      "4 -> 2\n",
      "4 -> 3\n",
      "-------------------------\n",
      "5 -> 2\n",
      "5 -> 3\n",
      "5 -> 4\n",
      "-------------------------\n",
      "6 -> 2\n",
      "6 -> 3\n",
      "6 -> 4\n",
      "6 -> 5\n",
      "-------------------------\n",
      "7 -> 2\n",
      "7 -> 3\n",
      "7 -> 4\n",
      "7 -> 5\n",
      "7 -> 6\n",
      "-------------------------\n",
      "8 -> 2\n",
      "8 -> 3\n",
      "8 -> 4\n",
      "8 -> 5\n",
      "8 -> 6\n",
      "8 -> 7\n",
      "-------------------------\n",
      "9 -> 2\n",
      "9 -> 3\n",
      "9 -> 4\n",
      "9 -> 5\n",
      "9 -> 6\n",
      "9 -> 7\n",
      "9 -> 8\n",
      "-------------------------\n",
      "10 -> 2\n",
      "10 -> 3\n",
      "10 -> 4\n",
      "10 -> 5\n",
      "10 -> 6\n",
      "10 -> 7\n",
      "10 -> 8\n",
      "10 -> 9\n",
      "-------------------------\n",
      "11 -> 2\n",
      "11 -> 3\n",
      "11 -> 4\n",
      "11 -> 5\n",
      "11 -> 6\n",
      "11 -> 7\n",
      "11 -> 8\n",
      "11 -> 9\n",
      "11 -> 10\n",
      "-------------------------\n",
      "12 -> 2\n",
      "12 -> 3\n",
      "12 -> 4\n",
      "12 -> 5\n",
      "12 -> 6\n",
      "12 -> 7\n",
      "12 -> 8\n",
      "12 -> 9\n",
      "12 -> 10\n",
      "12 -> 11\n",
      "-------------------------\n",
      "13 -> 2\n",
      "13 -> 3\n",
      "13 -> 4\n",
      "13 -> 5\n",
      "13 -> 6\n",
      "13 -> 7\n",
      "13 -> 8\n",
      "13 -> 9\n",
      "13 -> 10\n",
      "13 -> 11\n",
      "13 -> 12\n",
      "-------------------------\n",
      "14 -> 2\n",
      "14 -> 3\n",
      "14 -> 4\n",
      "14 -> 5\n",
      "14 -> 6\n",
      "14 -> 7\n",
      "14 -> 8\n",
      "14 -> 9\n",
      "14 -> 10\n",
      "14 -> 11\n",
      "14 -> 12\n",
      "14 -> 13\n",
      "-------------------------\n",
      "15 -> 2\n",
      "15 -> 3\n",
      "15 -> 4\n",
      "15 -> 5\n",
      "15 -> 6\n",
      "15 -> 7\n",
      "15 -> 8\n",
      "15 -> 9\n",
      "15 -> 10\n",
      "15 -> 11\n",
      "15 -> 12\n",
      "15 -> 13\n",
      "15 -> 14\n",
      "-------------------------\n",
      "16 -> 2\n",
      "16 -> 3\n",
      "16 -> 4\n",
      "16 -> 5\n",
      "16 -> 6\n",
      "16 -> 7\n",
      "16 -> 8\n",
      "16 -> 9\n",
      "16 -> 10\n",
      "16 -> 11\n",
      "16 -> 12\n",
      "16 -> 13\n",
      "16 -> 14\n",
      "16 -> 15\n",
      "-------------------------\n",
      "17 -> 2\n",
      "17 -> 3\n",
      "17 -> 4\n",
      "17 -> 5\n",
      "17 -> 6\n",
      "17 -> 7\n",
      "17 -> 8\n",
      "17 -> 9\n",
      "17 -> 10\n",
      "17 -> 11\n",
      "17 -> 12\n",
      "17 -> 13\n",
      "17 -> 14\n",
      "17 -> 15\n",
      "17 -> 16\n",
      "-------------------------\n",
      "18 -> 2\n",
      "18 -> 3\n",
      "18 -> 4\n",
      "18 -> 5\n",
      "18 -> 6\n",
      "18 -> 7\n",
      "18 -> 8\n",
      "18 -> 9\n",
      "18 -> 10\n",
      "18 -> 11\n",
      "18 -> 12\n",
      "18 -> 13\n",
      "18 -> 14\n",
      "18 -> 15\n",
      "18 -> 16\n",
      "18 -> 17\n",
      "-------------------------\n",
      "19 -> 2\n",
      "19 -> 3\n",
      "19 -> 4\n",
      "19 -> 5\n",
      "19 -> 6\n",
      "19 -> 7\n",
      "19 -> 8\n",
      "19 -> 9\n",
      "19 -> 10\n",
      "19 -> 11\n",
      "19 -> 12\n",
      "19 -> 13\n",
      "19 -> 14\n",
      "19 -> 15\n",
      "19 -> 16\n",
      "19 -> 17\n",
      "19 -> 18\n",
      "-------------------------\n",
      "20 -> 2\n",
      "20 -> 3\n",
      "20 -> 4\n",
      "20 -> 5\n",
      "20 -> 6\n",
      "20 -> 7\n",
      "20 -> 8\n",
      "20 -> 9\n",
      "20 -> 10\n",
      "20 -> 11\n",
      "20 -> 12\n",
      "20 -> 13\n",
      "20 -> 14\n",
      "20 -> 15\n",
      "20 -> 16\n",
      "20 -> 17\n",
      "20 -> 18\n",
      "20 -> 19\n",
      "-------------------------\n",
      "21 -> 2\n",
      "21 -> 3\n",
      "21 -> 4\n",
      "21 -> 5\n",
      "21 -> 6\n",
      "21 -> 7\n",
      "21 -> 8\n",
      "21 -> 9\n",
      "21 -> 10\n",
      "21 -> 11\n",
      "21 -> 12\n",
      "21 -> 13\n",
      "21 -> 14\n",
      "21 -> 15\n",
      "21 -> 16\n",
      "21 -> 17\n",
      "21 -> 18\n",
      "21 -> 19\n",
      "21 -> 20\n",
      "-------------------------\n",
      "22 -> 2\n",
      "22 -> 3\n",
      "22 -> 4\n",
      "22 -> 5\n",
      "22 -> 6\n",
      "22 -> 7\n",
      "22 -> 8\n",
      "22 -> 9\n",
      "22 -> 10\n",
      "22 -> 11\n",
      "22 -> 12\n",
      "22 -> 13\n",
      "22 -> 14\n",
      "22 -> 15\n",
      "22 -> 16\n",
      "22 -> 17\n",
      "22 -> 18\n",
      "22 -> 19\n",
      "22 -> 20\n",
      "22 -> 21\n",
      "-------------------------\n",
      "23 -> 2\n",
      "23 -> 3\n",
      "23 -> 4\n",
      "23 -> 5\n",
      "23 -> 6\n",
      "23 -> 7\n",
      "23 -> 8\n",
      "23 -> 9\n",
      "23 -> 10\n",
      "23 -> 11\n",
      "23 -> 12\n",
      "23 -> 13\n",
      "23 -> 14\n",
      "23 -> 15\n",
      "23 -> 16\n",
      "23 -> 17\n",
      "23 -> 18\n",
      "23 -> 19\n",
      "23 -> 20\n",
      "23 -> 21\n",
      "23 -> 22\n",
      "-------------------------\n",
      "24 -> 2\n",
      "24 -> 3\n",
      "24 -> 4\n",
      "24 -> 5\n",
      "24 -> 6\n",
      "24 -> 7\n",
      "24 -> 8\n",
      "24 -> 9\n",
      "24 -> 10\n",
      "24 -> 11\n",
      "24 -> 12\n",
      "24 -> 13\n",
      "24 -> 14\n",
      "24 -> 15\n",
      "24 -> 16\n",
      "24 -> 17\n",
      "24 -> 18\n",
      "24 -> 19\n",
      "24 -> 20\n",
      "24 -> 21\n",
      "24 -> 22\n",
      "24 -> 23\n",
      "-------------------------\n",
      "25 -> 2\n",
      "25 -> 3\n",
      "25 -> 4\n",
      "25 -> 5\n",
      "25 -> 6\n",
      "25 -> 7\n",
      "25 -> 8\n",
      "25 -> 9\n",
      "25 -> 10\n",
      "25 -> 11\n",
      "25 -> 12\n",
      "25 -> 13\n",
      "25 -> 14\n",
      "25 -> 15\n",
      "25 -> 16\n",
      "25 -> 17\n",
      "25 -> 18\n",
      "25 -> 19\n",
      "25 -> 20\n",
      "25 -> 21\n",
      "25 -> 22\n",
      "25 -> 23\n",
      "25 -> 24\n",
      "-------------------------\n",
      "26 -> 2\n",
      "26 -> 3\n",
      "26 -> 4\n",
      "26 -> 5\n",
      "26 -> 6\n",
      "26 -> 7\n",
      "26 -> 8\n",
      "26 -> 9\n",
      "26 -> 10\n",
      "26 -> 11\n",
      "26 -> 12\n",
      "26 -> 13\n",
      "26 -> 14\n",
      "26 -> 15\n",
      "26 -> 16\n",
      "26 -> 17\n",
      "26 -> 18\n",
      "26 -> 19\n",
      "26 -> 20\n",
      "26 -> 21\n",
      "26 -> 22\n",
      "26 -> 23\n",
      "26 -> 24\n",
      "26 -> 25\n",
      "-------------------------\n",
      "27 -> 2\n",
      "27 -> 3\n",
      "27 -> 4\n",
      "27 -> 5\n",
      "27 -> 6\n",
      "27 -> 7\n",
      "27 -> 8\n",
      "27 -> 9\n",
      "27 -> 10\n",
      "27 -> 11\n",
      "27 -> 12\n",
      "27 -> 13\n",
      "27 -> 14\n",
      "27 -> 15\n",
      "27 -> 16\n",
      "27 -> 17\n",
      "27 -> 18\n",
      "27 -> 19\n",
      "27 -> 20\n",
      "27 -> 21\n",
      "27 -> 22\n",
      "27 -> 23\n",
      "27 -> 24\n",
      "27 -> 25\n",
      "27 -> 26\n",
      "-------------------------\n",
      "28 -> 2\n",
      "28 -> 3\n",
      "28 -> 4\n",
      "28 -> 5\n",
      "28 -> 6\n",
      "28 -> 7\n",
      "28 -> 8\n",
      "28 -> 9\n",
      "28 -> 10\n",
      "28 -> 11\n",
      "28 -> 12\n",
      "28 -> 13\n",
      "28 -> 14\n",
      "28 -> 15\n",
      "28 -> 16\n",
      "28 -> 17\n",
      "28 -> 18\n",
      "28 -> 19\n",
      "28 -> 20\n",
      "28 -> 21\n",
      "28 -> 22\n",
      "28 -> 23\n",
      "28 -> 24\n",
      "28 -> 25\n",
      "28 -> 26\n",
      "28 -> 27\n",
      "-------------------------\n",
      "29 -> 2\n",
      "29 -> 3\n",
      "29 -> 4\n",
      "29 -> 5\n",
      "29 -> 6\n",
      "29 -> 7\n",
      "29 -> 8\n",
      "29 -> 9\n",
      "29 -> 10\n",
      "29 -> 11\n",
      "29 -> 12\n",
      "29 -> 13\n",
      "29 -> 14\n",
      "29 -> 15\n",
      "29 -> 16\n",
      "29 -> 17\n",
      "29 -> 18\n",
      "29 -> 19\n",
      "29 -> 20\n",
      "29 -> 21\n",
      "29 -> 22\n",
      "29 -> 23\n",
      "29 -> 24\n",
      "29 -> 25\n",
      "29 -> 26\n",
      "29 -> 27\n",
      "29 -> 28\n",
      "-------------------------\n",
      "30 -> 2\n",
      "30 -> 3\n",
      "30 -> 4\n",
      "30 -> 5\n",
      "30 -> 6\n",
      "30 -> 7\n",
      "30 -> 8\n",
      "30 -> 9\n",
      "30 -> 10\n",
      "30 -> 11\n",
      "30 -> 12\n",
      "30 -> 13\n",
      "30 -> 14\n",
      "30 -> 15\n",
      "30 -> 16\n",
      "30 -> 17\n",
      "30 -> 18\n",
      "30 -> 19\n",
      "30 -> 20\n",
      "30 -> 21\n",
      "30 -> 22\n",
      "30 -> 23\n",
      "30 -> 24\n",
      "30 -> 25\n",
      "30 -> 26\n",
      "30 -> 27\n",
      "30 -> 28\n",
      "30 -> 29\n",
      "-------------------------\n",
      "31 -> 2\n",
      "31 -> 3\n",
      "31 -> 4\n",
      "31 -> 5\n",
      "31 -> 6\n",
      "31 -> 7\n",
      "31 -> 8\n",
      "31 -> 9\n",
      "31 -> 10\n",
      "31 -> 11\n",
      "31 -> 12\n",
      "31 -> 13\n",
      "31 -> 14\n",
      "31 -> 15\n",
      "31 -> 16\n",
      "31 -> 17\n",
      "31 -> 18\n",
      "31 -> 19\n",
      "31 -> 20\n",
      "31 -> 21\n",
      "31 -> 22\n",
      "31 -> 23\n",
      "31 -> 24\n",
      "31 -> 25\n",
      "31 -> 26\n",
      "31 -> 27\n",
      "31 -> 28\n",
      "31 -> 29\n",
      "31 -> 30\n",
      "-------------------------\n",
      "32 -> 2\n",
      "32 -> 3\n",
      "32 -> 4\n",
      "32 -> 5\n",
      "32 -> 6\n",
      "32 -> 7\n",
      "32 -> 8\n",
      "32 -> 9\n",
      "32 -> 10\n",
      "32 -> 11\n",
      "32 -> 12\n",
      "32 -> 13\n",
      "32 -> 14\n",
      "32 -> 15\n",
      "32 -> 16\n",
      "32 -> 17\n",
      "32 -> 18\n",
      "32 -> 19\n",
      "32 -> 20\n",
      "32 -> 21\n",
      "32 -> 22\n",
      "32 -> 23\n",
      "32 -> 24\n",
      "32 -> 25\n",
      "32 -> 26\n",
      "32 -> 27\n",
      "32 -> 28\n",
      "32 -> 29\n",
      "32 -> 30\n",
      "32 -> 31\n",
      "-------------------------\n",
      "33 -> 2\n",
      "33 -> 3\n",
      "33 -> 4\n",
      "33 -> 5\n",
      "33 -> 6\n",
      "33 -> 7\n",
      "33 -> 8\n",
      "33 -> 9\n",
      "33 -> 10\n",
      "33 -> 11\n",
      "33 -> 12\n",
      "33 -> 13\n",
      "33 -> 14\n",
      "33 -> 15\n",
      "33 -> 16\n",
      "33 -> 17\n",
      "33 -> 18\n",
      "33 -> 19\n",
      "33 -> 20\n",
      "33 -> 21\n",
      "33 -> 22\n",
      "33 -> 23\n",
      "33 -> 24\n",
      "33 -> 25\n",
      "33 -> 26\n",
      "33 -> 27\n",
      "33 -> 28\n",
      "33 -> 29\n",
      "33 -> 30\n",
      "33 -> 31\n",
      "33 -> 32\n",
      "-------------------------\n",
      "34 -> 2\n",
      "34 -> 3\n",
      "34 -> 4\n",
      "34 -> 5\n",
      "34 -> 6\n",
      "34 -> 7\n",
      "34 -> 8\n",
      "34 -> 9\n",
      "34 -> 10\n",
      "34 -> 11\n",
      "34 -> 12\n",
      "34 -> 13\n",
      "34 -> 14\n",
      "34 -> 15\n",
      "34 -> 16\n",
      "34 -> 17\n",
      "34 -> 18\n",
      "34 -> 19\n",
      "34 -> 20\n",
      "34 -> 21\n",
      "34 -> 22\n",
      "34 -> 23\n",
      "34 -> 24\n",
      "34 -> 25\n",
      "34 -> 26\n",
      "34 -> 27\n",
      "34 -> 28\n",
      "34 -> 29\n",
      "34 -> 30\n",
      "34 -> 31\n",
      "34 -> 32\n",
      "34 -> 33\n",
      "-------------------------\n",
      "35 -> 2\n",
      "35 -> 3\n",
      "35 -> 4\n",
      "35 -> 5\n",
      "35 -> 6\n",
      "35 -> 7\n",
      "35 -> 8\n",
      "35 -> 9\n",
      "35 -> 10\n",
      "35 -> 11\n",
      "35 -> 12\n",
      "35 -> 13\n",
      "35 -> 14\n",
      "35 -> 15\n",
      "35 -> 16\n",
      "35 -> 17\n",
      "35 -> 18\n",
      "35 -> 19\n",
      "35 -> 20\n",
      "35 -> 21\n",
      "35 -> 22\n",
      "35 -> 23\n",
      "35 -> 24\n",
      "35 -> 25\n",
      "35 -> 26\n",
      "35 -> 27\n",
      "35 -> 28\n",
      "35 -> 29\n",
      "35 -> 30\n",
      "35 -> 31\n",
      "35 -> 32\n",
      "35 -> 33\n",
      "35 -> 34\n",
      "-------------------------\n",
      "36 -> 2\n",
      "36 -> 3\n",
      "36 -> 4\n",
      "36 -> 5\n",
      "36 -> 6\n",
      "36 -> 7\n",
      "36 -> 8\n",
      "36 -> 9\n",
      "36 -> 10\n",
      "36 -> 11\n",
      "36 -> 12\n",
      "36 -> 13\n",
      "36 -> 14\n",
      "36 -> 15\n",
      "36 -> 16\n",
      "36 -> 17\n",
      "36 -> 18\n",
      "36 -> 19\n",
      "36 -> 20\n",
      "36 -> 21\n",
      "36 -> 22\n",
      "36 -> 23\n",
      "36 -> 24\n",
      "36 -> 25\n",
      "36 -> 26\n",
      "36 -> 27\n",
      "36 -> 28\n",
      "36 -> 29\n",
      "36 -> 30\n",
      "36 -> 31\n",
      "36 -> 32\n",
      "36 -> 33\n",
      "36 -> 34\n",
      "36 -> 35\n",
      "-------------------------\n",
      "37 -> 2\n",
      "37 -> 3\n",
      "37 -> 4\n",
      "37 -> 5\n",
      "37 -> 6\n",
      "37 -> 7\n",
      "37 -> 8\n",
      "37 -> 9\n",
      "37 -> 10\n",
      "37 -> 11\n",
      "37 -> 12\n",
      "37 -> 13\n",
      "37 -> 14\n",
      "37 -> 15\n",
      "37 -> 16\n",
      "37 -> 17\n",
      "37 -> 18\n",
      "37 -> 19\n",
      "37 -> 20\n",
      "37 -> 21\n",
      "37 -> 22\n",
      "37 -> 23\n",
      "37 -> 24\n",
      "37 -> 25\n",
      "37 -> 26\n",
      "37 -> 27\n",
      "37 -> 28\n",
      "37 -> 29\n",
      "37 -> 30\n",
      "37 -> 31\n",
      "37 -> 32\n",
      "37 -> 33\n",
      "37 -> 34\n",
      "37 -> 35\n",
      "37 -> 36\n",
      "-------------------------\n",
      "38 -> 2\n",
      "38 -> 3\n",
      "38 -> 4\n",
      "38 -> 5\n",
      "38 -> 6\n",
      "38 -> 7\n",
      "38 -> 8\n",
      "38 -> 9\n",
      "38 -> 10\n",
      "38 -> 11\n",
      "38 -> 12\n",
      "38 -> 13\n",
      "38 -> 14\n",
      "38 -> 15\n",
      "38 -> 16\n",
      "38 -> 17\n",
      "38 -> 18\n",
      "38 -> 19\n",
      "38 -> 20\n",
      "38 -> 21\n",
      "38 -> 22\n",
      "38 -> 23\n",
      "38 -> 24\n",
      "38 -> 25\n",
      "38 -> 26\n",
      "38 -> 27\n",
      "38 -> 28\n",
      "38 -> 29\n",
      "38 -> 30\n",
      "38 -> 31\n",
      "38 -> 32\n",
      "38 -> 33\n",
      "38 -> 34\n",
      "38 -> 35\n",
      "38 -> 36\n",
      "38 -> 37\n",
      "-------------------------\n",
      "39 -> 2\n",
      "39 -> 3\n",
      "39 -> 4\n",
      "39 -> 5\n",
      "39 -> 6\n",
      "39 -> 7\n",
      "39 -> 8\n",
      "39 -> 9\n",
      "39 -> 10\n",
      "39 -> 11\n",
      "39 -> 12\n",
      "39 -> 13\n",
      "39 -> 14\n",
      "39 -> 15\n",
      "39 -> 16\n",
      "39 -> 17\n",
      "39 -> 18\n",
      "39 -> 19\n",
      "39 -> 20\n",
      "39 -> 21\n",
      "39 -> 22\n",
      "39 -> 23\n",
      "39 -> 24\n",
      "39 -> 25\n",
      "39 -> 26\n",
      "39 -> 27\n",
      "39 -> 28\n",
      "39 -> 29\n",
      "39 -> 30\n",
      "39 -> 31\n",
      "39 -> 32\n",
      "39 -> 33\n",
      "39 -> 34\n",
      "39 -> 35\n",
      "39 -> 36\n",
      "39 -> 37\n",
      "39 -> 38\n",
      "-------------------------\n",
      "40 -> 2\n",
      "40 -> 3\n",
      "40 -> 4\n",
      "40 -> 5\n",
      "40 -> 6\n",
      "40 -> 7\n",
      "40 -> 8\n",
      "40 -> 9\n",
      "40 -> 10\n",
      "40 -> 11\n",
      "40 -> 12\n",
      "40 -> 13\n",
      "40 -> 14\n",
      "40 -> 15\n",
      "40 -> 16\n",
      "40 -> 17\n",
      "40 -> 18\n",
      "40 -> 19\n",
      "40 -> 20\n",
      "40 -> 21\n",
      "40 -> 22\n",
      "40 -> 23\n",
      "40 -> 24\n",
      "40 -> 25\n",
      "40 -> 26\n",
      "40 -> 27\n",
      "40 -> 28\n",
      "40 -> 29\n",
      "40 -> 30\n",
      "40 -> 31\n",
      "40 -> 32\n",
      "40 -> 33\n",
      "40 -> 34\n",
      "40 -> 35\n",
      "40 -> 36\n",
      "40 -> 37\n",
      "40 -> 38\n",
      "40 -> 39\n",
      "-------------------------\n",
      "41 -> 2\n",
      "41 -> 3\n",
      "41 -> 4\n",
      "41 -> 5\n",
      "41 -> 6\n",
      "41 -> 7\n",
      "41 -> 8\n",
      "41 -> 9\n",
      "41 -> 10\n",
      "41 -> 11\n",
      "41 -> 12\n",
      "41 -> 13\n",
      "41 -> 14\n",
      "41 -> 15\n",
      "41 -> 16\n",
      "41 -> 17\n",
      "41 -> 18\n",
      "41 -> 19\n",
      "41 -> 20\n",
      "41 -> 21\n",
      "41 -> 22\n",
      "41 -> 23\n",
      "41 -> 24\n",
      "41 -> 25\n",
      "41 -> 26\n",
      "41 -> 27\n",
      "41 -> 28\n",
      "41 -> 29\n",
      "41 -> 30\n",
      "41 -> 31\n",
      "41 -> 32\n",
      "41 -> 33\n",
      "41 -> 34\n",
      "41 -> 35\n",
      "41 -> 36\n",
      "41 -> 37\n",
      "41 -> 38\n",
      "41 -> 39\n",
      "41 -> 40\n",
      "-------------------------\n",
      "42 -> 2\n",
      "42 -> 3\n",
      "42 -> 4\n",
      "42 -> 5\n",
      "42 -> 6\n",
      "42 -> 7\n",
      "42 -> 8\n",
      "42 -> 9\n",
      "42 -> 10\n",
      "42 -> 11\n",
      "42 -> 12\n",
      "42 -> 13\n",
      "42 -> 14\n",
      "42 -> 15\n",
      "42 -> 16\n",
      "42 -> 17\n",
      "42 -> 18\n",
      "42 -> 19\n",
      "42 -> 20\n",
      "42 -> 21\n",
      "42 -> 22\n",
      "42 -> 23\n",
      "42 -> 24\n",
      "42 -> 25\n",
      "42 -> 26\n",
      "42 -> 27\n",
      "42 -> 28\n",
      "42 -> 29\n",
      "42 -> 30\n",
      "42 -> 31\n",
      "42 -> 32\n",
      "42 -> 33\n",
      "42 -> 34\n",
      "42 -> 35\n",
      "42 -> 36\n",
      "42 -> 37\n",
      "42 -> 38\n",
      "42 -> 39\n",
      "42 -> 40\n",
      "42 -> 41\n",
      "-------------------------\n",
      "43 -> 2\n",
      "43 -> 3\n",
      "43 -> 4\n",
      "43 -> 5\n",
      "43 -> 6\n",
      "43 -> 7\n",
      "43 -> 8\n",
      "43 -> 9\n",
      "43 -> 10\n",
      "43 -> 11\n",
      "43 -> 12\n",
      "43 -> 13\n",
      "43 -> 14\n",
      "43 -> 15\n",
      "43 -> 16\n",
      "43 -> 17\n",
      "43 -> 18\n",
      "43 -> 19\n",
      "43 -> 20\n",
      "43 -> 21\n",
      "43 -> 22\n",
      "43 -> 23\n",
      "43 -> 24\n",
      "43 -> 25\n",
      "43 -> 26\n",
      "43 -> 27\n",
      "43 -> 28\n",
      "43 -> 29\n",
      "43 -> 30\n",
      "43 -> 31\n",
      "43 -> 32\n",
      "43 -> 33\n",
      "43 -> 34\n",
      "43 -> 35\n",
      "43 -> 36\n",
      "43 -> 37\n",
      "43 -> 38\n",
      "43 -> 39\n",
      "43 -> 40\n",
      "43 -> 41\n",
      "43 -> 42\n",
      "-------------------------\n",
      "44 -> 2\n",
      "44 -> 3\n",
      "44 -> 4\n",
      "44 -> 5\n",
      "44 -> 6\n",
      "44 -> 7\n",
      "44 -> 8\n",
      "44 -> 9\n",
      "44 -> 10\n",
      "44 -> 11\n",
      "44 -> 12\n",
      "44 -> 13\n",
      "44 -> 14\n",
      "44 -> 15\n",
      "44 -> 16\n",
      "44 -> 17\n",
      "44 -> 18\n",
      "44 -> 19\n",
      "44 -> 20\n",
      "44 -> 21\n",
      "44 -> 22\n",
      "44 -> 23\n",
      "44 -> 24\n",
      "44 -> 25\n",
      "44 -> 26\n",
      "44 -> 27\n",
      "44 -> 28\n",
      "44 -> 29\n",
      "44 -> 30\n",
      "44 -> 31\n",
      "44 -> 32\n",
      "44 -> 33\n",
      "44 -> 34\n",
      "44 -> 35\n",
      "44 -> 36\n",
      "44 -> 37\n",
      "44 -> 38\n",
      "44 -> 39\n",
      "44 -> 40\n",
      "44 -> 41\n",
      "44 -> 42\n",
      "44 -> 43\n",
      "-------------------------\n",
      "45 -> 2\n",
      "45 -> 3\n",
      "45 -> 4\n",
      "45 -> 5\n",
      "45 -> 6\n",
      "45 -> 7\n",
      "45 -> 8\n",
      "45 -> 9\n",
      "45 -> 10\n",
      "45 -> 11\n",
      "45 -> 12\n",
      "45 -> 13\n",
      "45 -> 14\n",
      "45 -> 15\n",
      "45 -> 16\n",
      "45 -> 17\n",
      "45 -> 18\n",
      "45 -> 19\n",
      "45 -> 20\n",
      "45 -> 21\n",
      "45 -> 22\n",
      "45 -> 23\n",
      "45 -> 24\n",
      "45 -> 25\n",
      "45 -> 26\n",
      "45 -> 27\n",
      "45 -> 28\n",
      "45 -> 29\n",
      "45 -> 30\n",
      "45 -> 31\n",
      "45 -> 32\n",
      "45 -> 33\n",
      "45 -> 34\n",
      "45 -> 35\n",
      "45 -> 36\n",
      "45 -> 37\n",
      "45 -> 38\n",
      "45 -> 39\n",
      "45 -> 40\n",
      "45 -> 41\n",
      "45 -> 42\n",
      "45 -> 43\n",
      "45 -> 44\n",
      "-------------------------\n",
      "46 -> 2\n",
      "46 -> 3\n",
      "46 -> 4\n",
      "46 -> 5\n",
      "46 -> 6\n",
      "46 -> 7\n",
      "46 -> 8\n",
      "46 -> 9\n",
      "46 -> 10\n",
      "46 -> 11\n",
      "46 -> 12\n",
      "46 -> 13\n",
      "46 -> 14\n",
      "46 -> 15\n",
      "46 -> 16\n",
      "46 -> 17\n",
      "46 -> 18\n",
      "46 -> 19\n",
      "46 -> 20\n",
      "46 -> 21\n",
      "46 -> 22\n",
      "46 -> 23\n",
      "46 -> 24\n",
      "46 -> 25\n",
      "46 -> 26\n",
      "46 -> 27\n",
      "46 -> 28\n",
      "46 -> 29\n",
      "46 -> 30\n",
      "46 -> 31\n",
      "46 -> 32\n",
      "46 -> 33\n",
      "46 -> 34\n",
      "46 -> 35\n",
      "46 -> 36\n",
      "46 -> 37\n",
      "46 -> 38\n",
      "46 -> 39\n",
      "46 -> 40\n",
      "46 -> 41\n",
      "46 -> 42\n",
      "46 -> 43\n",
      "46 -> 44\n",
      "46 -> 45\n",
      "-------------------------\n",
      "47 -> 2\n",
      "47 -> 3\n",
      "47 -> 4\n",
      "47 -> 5\n",
      "47 -> 6\n",
      "47 -> 7\n",
      "47 -> 8\n",
      "47 -> 9\n",
      "47 -> 10\n",
      "47 -> 11\n",
      "47 -> 12\n",
      "47 -> 13\n",
      "47 -> 14\n",
      "47 -> 15\n",
      "47 -> 16\n",
      "47 -> 17\n",
      "47 -> 18\n",
      "47 -> 19\n",
      "47 -> 20\n",
      "47 -> 21\n",
      "47 -> 22\n",
      "47 -> 23\n",
      "47 -> 24\n",
      "47 -> 25\n",
      "47 -> 26\n",
      "47 -> 27\n",
      "47 -> 28\n",
      "47 -> 29\n",
      "47 -> 30\n",
      "47 -> 31\n",
      "47 -> 32\n",
      "47 -> 33\n",
      "47 -> 34\n",
      "47 -> 35\n",
      "47 -> 36\n",
      "47 -> 37\n",
      "47 -> 38\n",
      "47 -> 39\n",
      "47 -> 40\n",
      "47 -> 41\n",
      "47 -> 42\n",
      "47 -> 43\n",
      "47 -> 44\n",
      "47 -> 45\n",
      "47 -> 46\n",
      "-------------------------\n",
      "48 -> 2\n",
      "48 -> 3\n",
      "48 -> 4\n",
      "48 -> 5\n",
      "48 -> 6\n",
      "48 -> 7\n",
      "48 -> 8\n",
      "48 -> 9\n",
      "48 -> 10\n",
      "48 -> 11\n",
      "48 -> 12\n",
      "48 -> 13\n",
      "48 -> 14\n",
      "48 -> 15\n",
      "48 -> 16\n",
      "48 -> 17\n",
      "48 -> 18\n",
      "48 -> 19\n",
      "48 -> 20\n",
      "48 -> 21\n",
      "48 -> 22\n",
      "48 -> 23\n",
      "48 -> 24\n",
      "48 -> 25\n",
      "48 -> 26\n",
      "48 -> 27\n",
      "48 -> 28\n",
      "48 -> 29\n",
      "48 -> 30\n",
      "48 -> 31\n",
      "48 -> 32\n",
      "48 -> 33\n",
      "48 -> 34\n",
      "48 -> 35\n",
      "48 -> 36\n",
      "48 -> 37\n",
      "48 -> 38\n",
      "48 -> 39\n",
      "48 -> 40\n",
      "48 -> 41\n",
      "48 -> 42\n",
      "48 -> 43\n",
      "48 -> 44\n",
      "48 -> 45\n",
      "48 -> 46\n",
      "48 -> 47\n",
      "-------------------------\n",
      "49 -> 2\n",
      "49 -> 3\n",
      "49 -> 4\n",
      "49 -> 5\n",
      "49 -> 6\n",
      "49 -> 7\n",
      "49 -> 8\n",
      "49 -> 9\n",
      "49 -> 10\n",
      "49 -> 11\n",
      "49 -> 12\n",
      "49 -> 13\n",
      "49 -> 14\n",
      "49 -> 15\n",
      "49 -> 16\n",
      "49 -> 17\n",
      "49 -> 18\n",
      "49 -> 19\n",
      "49 -> 20\n",
      "49 -> 21\n",
      "49 -> 22\n",
      "49 -> 23\n",
      "49 -> 24\n",
      "49 -> 25\n",
      "49 -> 26\n",
      "49 -> 27\n",
      "49 -> 28\n",
      "49 -> 29\n",
      "49 -> 30\n",
      "49 -> 31\n",
      "49 -> 32\n",
      "49 -> 33\n",
      "49 -> 34\n",
      "49 -> 35\n",
      "49 -> 36\n",
      "49 -> 37\n",
      "49 -> 38\n",
      "49 -> 39\n",
      "49 -> 40\n",
      "49 -> 41\n",
      "49 -> 42\n",
      "49 -> 43\n",
      "49 -> 44\n",
      "49 -> 45\n",
      "49 -> 46\n",
      "49 -> 47\n",
      "49 -> 48\n",
      "-------------------------\n",
      "50 -> 2\n",
      "50 -> 3\n",
      "50 -> 4\n",
      "50 -> 5\n",
      "50 -> 6\n",
      "50 -> 7\n",
      "50 -> 8\n",
      "50 -> 9\n",
      "50 -> 10\n",
      "50 -> 11\n",
      "50 -> 12\n",
      "50 -> 13\n",
      "50 -> 14\n",
      "50 -> 15\n",
      "50 -> 16\n",
      "50 -> 17\n",
      "50 -> 18\n",
      "50 -> 19\n",
      "50 -> 20\n",
      "50 -> 21\n",
      "50 -> 22\n",
      "50 -> 23\n",
      "50 -> 24\n",
      "50 -> 25\n",
      "50 -> 26\n",
      "50 -> 27\n",
      "50 -> 28\n",
      "50 -> 29\n",
      "50 -> 30\n",
      "50 -> 31\n",
      "50 -> 32\n",
      "50 -> 33\n",
      "50 -> 34\n",
      "50 -> 35\n",
      "50 -> 36\n",
      "50 -> 37\n",
      "50 -> 38\n",
      "50 -> 39\n",
      "50 -> 40\n",
      "50 -> 41\n",
      "50 -> 42\n",
      "50 -> 43\n",
      "50 -> 44\n",
      "50 -> 45\n",
      "50 -> 46\n",
      "50 -> 47\n",
      "50 -> 48\n",
      "50 -> 49\n",
      "-------------------------\n"
     ]
    }
   ],
   "source": [
    "for n in range(2,51):\n",
    "\n",
    "    for i in range(2, n):\n",
    "        print(n, \"->\", i)\n",
    "\n",
    "    print(\"-------------------------\")"
   ]
  },
  {
   "cell_type": "code",
   "execution_count": 81,
   "metadata": {},
   "outputs": [
    {
     "name": "stdout",
     "output_type": "stream",
     "text": [
      "2 es primo\n",
      "3 es primo\n",
      "5 es primo\n",
      "7 es primo\n",
      "11 es primo\n",
      "13 es primo\n",
      "17 es primo\n",
      "19 es primo\n",
      "23 es primo\n",
      "29 es primo\n",
      "31 es primo\n",
      "37 es primo\n",
      "41 es primo\n",
      "43 es primo\n",
      "47 es primo\n"
     ]
    }
   ],
   "source": [
    "for n in range(2,51):\n",
    "\n",
    "    primo = True\n",
    "    for i in range(2, n):\n",
    "        if n % i == 0:\n",
    "            primo = False\n",
    "            break\n",
    "    if primo: # es lo mismo que poner primo == True\n",
    "          print(n, \"es primo\")"
   ]
  },
  {
   "cell_type": "code",
   "execution_count": 79,
   "metadata": {},
   "outputs": [
    {
     "data": {
      "text/plain": [
       "True"
      ]
     },
     "execution_count": 79,
     "metadata": {},
     "output_type": "execute_result"
    }
   ],
   "source": [
    "9 % 3 == 0"
   ]
  },
  {
   "cell_type": "code",
   "execution_count": 77,
   "metadata": {},
   "outputs": [
    {
     "data": {
      "text/plain": [
       "True"
      ]
     },
     "execution_count": 77,
     "metadata": {},
     "output_type": "execute_result"
    }
   ],
   "source": [
    "15 % 3 == 0"
   ]
  },
  {
   "cell_type": "code",
   "execution_count": 70,
   "metadata": {},
   "outputs": [
    {
     "data": {
      "text/plain": [
       "True"
      ]
     },
     "execution_count": 70,
     "metadata": {},
     "output_type": "execute_result"
    }
   ],
   "source": [
    "a = True\n",
    "\n",
    "a"
   ]
  },
  {
   "cell_type": "code",
   "execution_count": 71,
   "metadata": {},
   "outputs": [],
   "source": [
    "edad = 42\n",
    "\n"
   ]
  },
  {
   "cell_type": "code",
   "execution_count": 72,
   "metadata": {},
   "outputs": [
    {
     "data": {
      "text/plain": [
       "False"
      ]
     },
     "execution_count": 72,
     "metadata": {},
     "output_type": "execute_result"
    }
   ],
   "source": [
    "edad == 20"
   ]
  },
  {
   "cell_type": "code",
   "execution_count": null,
   "metadata": {},
   "outputs": [],
   "source": [
    "# factorial"
   ]
  },
  {
   "cell_type": "code",
   "execution_count": 98,
   "metadata": {},
   "outputs": [
    {
     "name": "stdout",
     "output_type": "stream",
     "text": [
      "1 -> 1\n",
      "2 -> 2\n",
      "3 -> 6\n",
      "4 -> 24\n",
      "5 -> 120\n",
      "120\n"
     ]
    }
   ],
   "source": [
    "num = 5\n",
    "factorial = 1\n",
    "\n",
    "for i in range(1, num+1):\n",
    "    \n",
    "    \n",
    "    factorial = factorial * i # es lo mismo que si ponemos factorial *= i\n",
    "    print(i, \"->\", factorial)\n",
    "\n",
    "print(factorial)"
   ]
  },
  {
   "cell_type": "code",
   "execution_count": null,
   "metadata": {},
   "outputs": [],
   "source": [
    "# primos + factorial en una funcición"
   ]
  },
  {
   "cell_type": "code",
   "execution_count": null,
   "metadata": {},
   "outputs": [],
   "source": []
  },
  {
   "cell_type": "code",
   "execution_count": 102,
   "metadata": {},
   "outputs": [],
   "source": [
    "def factorial(n):\n",
    "    num = n\n",
    "    factorial = 1\n",
    "\n",
    "    for i in range(1, num+1):\n",
    "    \n",
    "    \n",
    "        factorial = factorial * i # es lo mismo que si ponemos factorial *= i\n",
    "        print(i, \"->\", factorial)\n",
    "\n",
    "    print(factorial)"
   ]
  },
  {
   "cell_type": "code",
   "execution_count": 103,
   "metadata": {},
   "outputs": [
    {
     "name": "stdout",
     "output_type": "stream",
     "text": [
      "1 -> 1\n",
      "2 -> 2\n",
      "3 -> 6\n",
      "4 -> 24\n",
      "5 -> 120\n",
      "120\n"
     ]
    }
   ],
   "source": [
    "factorial(5)"
   ]
  },
  {
   "cell_type": "code",
   "execution_count": 104,
   "metadata": {},
   "outputs": [
    {
     "name": "stdout",
     "output_type": "stream",
     "text": [
      "1 -> 1\n",
      "2 -> 2\n",
      "3 -> 6\n",
      "4 -> 24\n",
      "5 -> 120\n",
      "6 -> 720\n",
      "720\n"
     ]
    }
   ],
   "source": [
    "factorial(6)"
   ]
  },
  {
   "cell_type": "code",
   "execution_count": 105,
   "metadata": {},
   "outputs": [],
   "source": [
    "def primos(numero):\n",
    "    for n in range(2,numero+1):\n",
    "\n",
    "        primo = True\n",
    "        for i in range(2, n):\n",
    "            if n % i == 0:\n",
    "                primo = False\n",
    "                break\n",
    "        if primo: # es lo mismo que poner primo == True\n",
    "            print(n, \"es primo\")"
   ]
  },
  {
   "cell_type": "code",
   "execution_count": 109,
   "metadata": {},
   "outputs": [
    {
     "name": "stdout",
     "output_type": "stream",
     "text": [
      "2 es primo\n",
      "3 es primo\n",
      "5 es primo\n",
      "7 es primo\n",
      "11 es primo\n",
      "13 es primo\n",
      "17 es primo\n",
      "19 es primo\n",
      "23 es primo\n",
      "29 es primo\n",
      "31 es primo\n",
      "37 es primo\n",
      "41 es primo\n",
      "43 es primo\n",
      "47 es primo\n"
     ]
    }
   ],
   "source": [
    "primos(50)"
   ]
  },
  {
   "cell_type": "code",
   "execution_count": 120,
   "metadata": {},
   "outputs": [],
   "source": [
    "def mega_funcion(numero, opcion=\"primos\"):\n",
    "\n",
    "    if opcion == \"primos\":\n",
    "        print(\"haz los primos hasta \", numero)\n",
    "        for n in range(2,numero+1):\n",
    "\n",
    "            primo = True\n",
    "            for i in range(2, n):\n",
    "                if n % i == 0:\n",
    "                    primo = False\n",
    "                    break\n",
    "            if primo: # es lo mismo que poner primo == True\n",
    "                print(n, \"es primo\")\n",
    "\n",
    "    elif opcion == \"factorial\":\n",
    "        print(\"haz factorial de\", numero)\n",
    "        num = numero\n",
    "        factorial = 1\n",
    "\n",
    "        for i in range(1, num+1):\n",
    "    \n",
    "    \n",
    "            factorial = factorial * i # es lo mismo que si ponemos factorial *= i\n",
    "            print(i, \"->\", factorial)\n",
    "\n",
    "        print(factorial)\n",
    "\n",
    "    else:\n",
    "        print(\"eso no lo puedo hacer\")"
   ]
  },
  {
   "cell_type": "code",
   "execution_count": 130,
   "metadata": {},
   "outputs": [
    {
     "name": "stdout",
     "output_type": "stream",
     "text": [
      "haz factorial de 5\n",
      "1 -> 1\n",
      "2 -> 2\n",
      "3 -> 6\n",
      "4 -> 24\n",
      "5 -> 120\n",
      "120\n"
     ]
    }
   ],
   "source": [
    "mega_funcion(5, \"factorial\")"
   ]
  },
  {
   "cell_type": "code",
   "execution_count": 127,
   "metadata": {},
   "outputs": [
    {
     "name": "stdout",
     "output_type": "stream",
     "text": [
      "haz los primos hasta  50\n",
      "2 es primo\n",
      "3 es primo\n",
      "5 es primo\n",
      "7 es primo\n",
      "11 es primo\n",
      "13 es primo\n",
      "17 es primo\n",
      "19 es primo\n",
      "23 es primo\n",
      "29 es primo\n",
      "31 es primo\n",
      "37 es primo\n",
      "41 es primo\n",
      "43 es primo\n",
      "47 es primo\n"
     ]
    }
   ],
   "source": [
    "mega_funcion(50000, \"primos\")"
   ]
  },
  {
   "cell_type": "code",
   "execution_count": null,
   "metadata": {},
   "outputs": [],
   "source": []
  }
 ],
 "metadata": {
  "kernelspec": {
   "display_name": "promo_m",
   "language": "python",
   "name": "python3"
  },
  "language_info": {
   "codemirror_mode": {
    "name": "ipython",
    "version": 3
   },
   "file_extension": ".py",
   "mimetype": "text/x-python",
   "name": "python",
   "nbconvert_exporter": "python",
   "pygments_lexer": "ipython3",
   "version": "3.11.11"
  }
 },
 "nbformat": 4,
 "nbformat_minor": 2
}

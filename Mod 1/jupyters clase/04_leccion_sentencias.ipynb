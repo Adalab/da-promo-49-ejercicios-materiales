{
 "cells": [
  {
   "cell_type": "markdown",
   "metadata": {},
   "source": [
    "# ¿Qué hemos aprendido? \n",
    "\n",
    "## if ... elif ... else\n",
    "\n",
    "- Se utilizan para establecer condiciones y controlar nuestro código. \n",
    "\n",
    "- Tiene que haber una condición que nos devuelva un booleano. \n",
    "\n",
    "- Tenemos que cubrir todas las posibles combinaciones,y las que no nos interesen irán en el else. Las opciones deben ser excluyentes entre ellas. \n",
    "\n",
    "- El orden importa. \n",
    "\n",
    "- Tenemos que indentar el código que esta en el interior del if, elif o else. \n",
    "\n",
    "- Hay que poner `:` después de las condiciones del if y del elif y justo después del else. \n",
    "\n",
    "- El else nunca lleva una condición, siempre hará referencia al resto de condiciones. \n",
    "\n",
    "- El if y el else solo se puede poner una vez en la serie de condiciones, pero podemos poner todos los elif que queramos. \n",
    "\n",
    "- Podemos juntar distintas condiciones. Los operadores que usaremos son:\n",
    "\n",
    "    - `and` : se tienen que cumplir **todas** las condiciones\n",
    "\n",
    "        ```python\n",
    "        numero1 = 3\n",
    "        numero2 = 5\n",
    "\n",
    "        # cuando usamos el operador and se tiene que cumplir las dos condiciones. En este caso, no se cumplen las dos, por lo tanto, se ejecutará el código del else. \n",
    "        if numero1 > 1 and numero2 > 10:\n",
    "            print(numero1 + numero2)\n",
    "        else: \n",
    "            print(numero1)\n",
    "\n",
    "        # output \n",
    "        3\n",
    "        \n",
    "        ```\n",
    "    - `or` : se tiene que cumplir **al menos una de las condiciones**\n",
    "\n",
    "        ```python\n",
    "        numero1 = 3\n",
    "        numero2 = 5\n",
    "\n",
    "        # en este caso se cumple la primera condición, pero no la segunda. Peeero como estamos usando un or, se tiene que cumplir al menos una de las condiciones para que nos haga la suma\n",
    "        if numero1 > 1 or numero2 > 10:\n",
    "            print(numero1 + numero2)\n",
    "        else: \n",
    "            print(numero1)\n",
    "\n",
    "        # output \n",
    "        8 \n",
    "        ```\n",
    "## `while` \n",
    "\n",
    "- El código se parará cuando la condición sea False. \n",
    "\n",
    "- Pueden ser infinitos, cuidado! \n",
    "\n",
    "- Se pueden incluir condiciones usando `if` ... `elif` ... `else` dentro del while."
   ]
  },
  {
   "cell_type": "code",
   "execution_count": 6,
   "metadata": {},
   "outputs": [
    {
     "name": "stdout",
     "output_type": "stream",
     "text": [
      "ocho\n",
      "esto se ejecuta siempre\n"
     ]
    }
   ],
   "source": [
    "num = 8\n",
    "\n",
    "if num == 8:\n",
    "    print(\"ocho\")\n",
    "\n",
    "elif num == 9:\n",
    "    print(\"nueve\")\n",
    "\n",
    "print(\"esto se ejecuta siempre\")\n",
    "\n"
   ]
  },
  {
   "cell_type": "code",
   "execution_count": 7,
   "metadata": {},
   "outputs": [
    {
     "data": {
      "text/plain": [
       "True"
      ]
     },
     "execution_count": 7,
     "metadata": {},
     "output_type": "execute_result"
    }
   ],
   "source": [
    "num = 7\n",
    "    \n",
    "num > 5"
   ]
  },
  {
   "cell_type": "code",
   "execution_count": 8,
   "metadata": {},
   "outputs": [],
   "source": [
    "num = 100"
   ]
  },
  {
   "cell_type": "code",
   "execution_count": 9,
   "metadata": {},
   "outputs": [
    {
     "data": {
      "text/plain": [
       "True"
      ]
     },
     "execution_count": 9,
     "metadata": {},
     "output_type": "execute_result"
    }
   ],
   "source": [
    "num == 100"
   ]
  },
  {
   "cell_type": "code",
   "execution_count": 10,
   "metadata": {},
   "outputs": [
    {
     "data": {
      "text/plain": [
       "True"
      ]
     },
     "execution_count": 10,
     "metadata": {},
     "output_type": "execute_result"
    }
   ],
   "source": [
    "num > 50"
   ]
  },
  {
   "cell_type": "code",
   "execution_count": 11,
   "metadata": {},
   "outputs": [
    {
     "data": {
      "text/plain": [
       "True"
      ]
     },
     "execution_count": 11,
     "metadata": {},
     "output_type": "execute_result"
    }
   ],
   "source": [
    "num == 100 and num > 50"
   ]
  },
  {
   "cell_type": "code",
   "execution_count": 12,
   "metadata": {},
   "outputs": [
    {
     "data": {
      "text/plain": [
       "False"
      ]
     },
     "execution_count": 12,
     "metadata": {},
     "output_type": "execute_result"
    }
   ],
   "source": [
    "num > 500"
   ]
  },
  {
   "cell_type": "code",
   "execution_count": 13,
   "metadata": {},
   "outputs": [
    {
     "data": {
      "text/plain": [
       "False"
      ]
     },
     "execution_count": 13,
     "metadata": {},
     "output_type": "execute_result"
    }
   ],
   "source": [
    "num == 100 and num > 500"
   ]
  },
  {
   "cell_type": "code",
   "execution_count": 14,
   "metadata": {},
   "outputs": [
    {
     "data": {
      "text/plain": [
       "True"
      ]
     },
     "execution_count": 14,
     "metadata": {},
     "output_type": "execute_result"
    }
   ],
   "source": [
    "num == 100 or num > 500"
   ]
  },
  {
   "cell_type": "code",
   "execution_count": 24,
   "metadata": {},
   "outputs": [],
   "source": [
    "adalabers = [\"Adriana\", \"Sara\", \"Maíra\", \"Cesar\"]"
   ]
  },
  {
   "cell_type": "code",
   "execution_count": 18,
   "metadata": {},
   "outputs": [
    {
     "name": "stdout",
     "output_type": "stream",
     "text": [
      "Hay un error en la lista, está Cesar\n"
     ]
    }
   ],
   "source": [
    "if \"Cesar\" in adalabers:\n",
    "    print(\"Hay un error en la lista, está Cesar\")\n",
    "\n",
    "elif \"Maíra\" in adalabers:\n",
    "    print(\"Hay un error en la lista, está Maíra\")"
   ]
  },
  {
   "cell_type": "code",
   "execution_count": 25,
   "metadata": {},
   "outputs": [
    {
     "name": "stdout",
     "output_type": "stream",
     "text": [
      "Hay un error en la lista\n"
     ]
    }
   ],
   "source": [
    "if \"Cesar\" in adalabers and \"Maíra\" in adalabers:\n",
    "    print(\"Hay un error en la lista\")\n",
    "\n",
    "elif \"Cesar\" in adalabers or \"Maíra\" in adalabers:\n",
    "    print(\"Hay un error pequeño en la lista\")"
   ]
  },
  {
   "cell_type": "code",
   "execution_count": 27,
   "metadata": {},
   "outputs": [
    {
     "name": "stdout",
     "output_type": "stream",
     "text": [
      "este num es grande\n",
      "el num es ocho\n"
     ]
    }
   ],
   "source": [
    "num = 8\n",
    "\n",
    "if num > 6:\n",
    "    print(\"este num es grande\")\n",
    "\n",
    "else:\n",
    "    print(\"el num es pequeño\")\n",
    "\n",
    "if num == 8:\n",
    "    print(\"el num es ocho\")\n",
    "\n",
    "else:\n",
    "    print(\"el num no es ocho\")"
   ]
  },
  {
   "cell_type": "code",
   "execution_count": 29,
   "metadata": {},
   "outputs": [
    {
     "name": "stdout",
     "output_type": "stream",
     "text": [
      "2\n"
     ]
    }
   ],
   "source": [
    "num = 2\n",
    "\n",
    "if num == 1:\n",
    "    print(\"1\")\n",
    "\n",
    "elif num == 2:\n",
    "    print(\"2\")\n",
    "\n",
    "elif num == 8:\n",
    "    print(\"8\")"
   ]
  },
  {
   "cell_type": "code",
   "execution_count": 33,
   "metadata": {},
   "outputs": [
    {
     "name": "stdout",
     "output_type": "stream",
     "text": [
      "2\n"
     ]
    }
   ],
   "source": [
    "num = 2\n",
    "\n",
    "if num == 1:\n",
    "    print(\"1\")\n",
    "\n",
    "elif num == 2:\n",
    "    print(\"2\")\n",
    "\n",
    "elif num < 8:\n",
    "    print(\"8\")\n"
   ]
  },
  {
   "cell_type": "code",
   "execution_count": 39,
   "metadata": {},
   "outputs": [
    {
     "name": "stdout",
     "output_type": "stream",
     "text": [
      "suficiente\n"
     ]
    }
   ],
   "source": [
    "num = 3\n",
    "\n",
    "if num >= 2:\n",
    "    print(\"suficiente\")\n",
    "\n",
    "elif num == 6:\n",
    "    print(\"seis\")\n",
    "\n",
    "elif num > 6:\n",
    "    print(\"muchas\")"
   ]
  },
  {
   "cell_type": "code",
   "execution_count": 38,
   "metadata": {},
   "outputs": [
    {
     "name": "stdout",
     "output_type": "stream",
     "text": [
      "suficientes\n"
     ]
    }
   ],
   "source": [
    "num = 3\n",
    "\n",
    "if num > 6:\n",
    "    print(\"muchos\")\n",
    "\n",
    "elif num == 6:\n",
    "    print(\"seis\")\n",
    "\n",
    "elif num > 2:\n",
    "    print(\"suficientes\")"
   ]
  },
  {
   "cell_type": "code",
   "execution_count": 57,
   "metadata": {},
   "outputs": [
    {
     "name": "stdout",
     "output_type": "stream",
     "text": [
      "3\n",
      "2\n",
      "1\n"
     ]
    }
   ],
   "source": [
    "num = 3\n",
    "\n",
    "while num > 0:\n",
    "    print(num)\n",
    "    num -= 1"
   ]
  },
  {
   "cell_type": "code",
   "execution_count": 56,
   "metadata": {},
   "outputs": [
    {
     "data": {
      "text/plain": [
       "False"
      ]
     },
     "execution_count": 56,
     "metadata": {},
     "output_type": "execute_result"
    }
   ],
   "source": [
    "num = 0\n",
    "\n",
    "num > 0"
   ]
  },
  {
   "cell_type": "code",
   "execution_count": 59,
   "metadata": {},
   "outputs": [],
   "source": [
    "# vamos a crear un programa que adivine un número y no pare hasta que lo hayamos intentado 3 \n",
    "# veces o adivinado el número"
   ]
  },
  {
   "cell_type": "code",
   "execution_count": null,
   "metadata": {},
   "outputs": [],
   "source": [
    "# 1. tenemos que definir el num de intentos y definir el num\n",
    "# 2. preguntar a la ususaria por el num\n",
    "# si falla, restar un intento\n",
    "# si acierta, imprimir que ha acertado"
   ]
  },
  {
   "cell_type": "code",
   "execution_count": 74,
   "metadata": {},
   "outputs": [
    {
     "name": "stdout",
     "output_type": "stream",
     "text": [
      "3\n",
      "has acertado\n"
     ]
    }
   ],
   "source": [
    "num = 42\n",
    "intentos = 3\n",
    "\n",
    "while intentos > 0:\n",
    "    print(intentos)\n",
    "    \n",
    "\n",
    "    opcion = int(input(\"adivina el num\"))\n",
    "\n",
    "    if num == opcion: \n",
    "        print(\"has acertado\")\n",
    "        intentos = 0\n",
    "\n",
    "    else:\n",
    "        print(\"has fallado\")\n",
    "        intentos -= 1 # intentos = intentos - 1"
   ]
  },
  {
   "cell_type": "code",
   "execution_count": 66,
   "metadata": {},
   "outputs": [
    {
     "name": "stdout",
     "output_type": "stream",
     "text": [
      "The Zen of Python, by Tim Peters\n",
      "\n",
      "Beautiful is better than ugly.\n",
      "Explicit is better than implicit.\n",
      "Simple is better than complex.\n",
      "Complex is better than complicated.\n",
      "Flat is better than nested.\n",
      "Sparse is better than dense.\n",
      "Readability counts.\n",
      "Special cases aren't special enough to break the rules.\n",
      "Although practicality beats purity.\n",
      "Errors should never pass silently.\n",
      "Unless explicitly silenced.\n",
      "In the face of ambiguity, refuse the temptation to guess.\n",
      "There should be one-- and preferably only one --obvious way to do it.\n",
      "Although that way may not be obvious at first unless you're Dutch.\n",
      "Now is better than never.\n",
      "Although never is often better than *right* now.\n",
      "If the implementation is hard to explain, it's a bad idea.\n",
      "If the implementation is easy to explain, it may be a good idea.\n",
      "Namespaces are one honking great idea -- let's do more of those!\n"
     ]
    }
   ],
   "source": [
    "import this"
   ]
  },
  {
   "cell_type": "code",
   "execution_count": 76,
   "metadata": {},
   "outputs": [
    {
     "name": "stdout",
     "output_type": "stream",
     "text": [
      "Tienes 3 intentos\n",
      "Has marcado 21, has fallado\n",
      "Tienes 2 intentos\n",
      "Has marcado 21, has fallado\n",
      "Tienes 1 intentos\n",
      "Has marcado 42, has acertado\n"
     ]
    }
   ],
   "source": [
    "num = 42\n",
    "intentos = 3\n",
    "\n",
    "while intentos > 0:\n",
    "    print(f\"Tienes {intentos} intentos\")\n",
    "    \n",
    "    opcion = int(input(\"Adivina el número\"))\n",
    "    if num == opcion:\n",
    "        print(f\"Has marcado {opcion}, has acertado\")\n",
    "        break\n",
    "    else:\n",
    "        print(f\"Has marcado {opcion}, has fallado\")\n",
    "        intentos -= 1\n",
    "if intentos == 0:\n",
    "    print(\"Te has quedado sin intentos\")"
   ]
  },
  {
   "cell_type": "code",
   "execution_count": null,
   "metadata": {},
   "outputs": [],
   "source": []
  },
  {
   "cell_type": "code",
   "execution_count": null,
   "metadata": {},
   "outputs": [],
   "source": []
  },
  {
   "cell_type": "code",
   "execution_count": null,
   "metadata": {},
   "outputs": [],
   "source": []
  },
  {
   "cell_type": "code",
   "execution_count": null,
   "metadata": {},
   "outputs": [],
   "source": []
  },
  {
   "cell_type": "code",
   "execution_count": null,
   "metadata": {},
   "outputs": [],
   "source": []
  },
  {
   "cell_type": "code",
   "execution_count": null,
   "metadata": {},
   "outputs": [],
   "source": []
  },
  {
   "cell_type": "code",
   "execution_count": null,
   "metadata": {},
   "outputs": [],
   "source": []
  },
  {
   "cell_type": "code",
   "execution_count": null,
   "metadata": {},
   "outputs": [],
   "source": []
  },
  {
   "cell_type": "code",
   "execution_count": null,
   "metadata": {},
   "outputs": [],
   "source": []
  },
  {
   "cell_type": "code",
   "execution_count": null,
   "metadata": {},
   "outputs": [],
   "source": []
  }
 ],
 "metadata": {
  "kernelspec": {
   "display_name": "promo_m",
   "language": "python",
   "name": "python3"
  },
  "language_info": {
   "codemirror_mode": {
    "name": "ipython",
    "version": 3
   },
   "file_extension": ".py",
   "mimetype": "text/x-python",
   "name": "python",
   "nbconvert_exporter": "python",
   "pygments_lexer": "ipython3",
   "version": "3.11.11"
  }
 },
 "nbformat": 4,
 "nbformat_minor": 2
}

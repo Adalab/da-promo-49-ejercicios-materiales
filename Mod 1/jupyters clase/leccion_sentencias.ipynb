{
 "cells": [
  {
   "cell_type": "markdown",
   "metadata": {},
   "source": [
    "# ¿Qué hemos aprendido? \n",
    "\n",
    "## if ... elif ... else\n",
    "\n",
    "- Se utilizan para establecer condiciones y controlar nuestro código. \n",
    "\n",
    "- Tiene que haber una condición que nos devuelva un booleano. \n",
    "\n",
    "- Tenemos que cubrir todas las posibles combinaciones,y las que no nos interesen irán en el else. Las opciones deben ser excluyentes entre ellas. \n",
    "\n",
    "- El orden importa. \n",
    "\n",
    "- Tenemos que indentar el código que esta en el interior del if, elif o else. \n",
    "\n",
    "- Hay que poner `:` después de las condiciones del if y del elif y justo después del else. \n",
    "\n",
    "- El else nunca lleva una condición, siempre hará referencia al resto de condiciones. \n",
    "\n",
    "- El if y el else solo se puede poner una vez en la serie de condiciones, pero podemos poner todos los elif que queramos. \n",
    "\n",
    "- Podemos juntar distintas condiciones. Los operadores que usaremos son:\n",
    "\n",
    "    - `and` : se tienen que cumplir **todas** las condiciones\n",
    "\n",
    "        ```python\n",
    "        numero1 = 3\n",
    "        numero2 = 5\n",
    "\n",
    "        # cuando usamos el operador and se tiene que cumplir las dos condiciones. En este caso, no se cumplen las dos, por lo tanto, se ejecutará el código del else. \n",
    "        if numero1 > 1 and numero2 > 10:\n",
    "            print(numero1 + numero2)\n",
    "        else: \n",
    "            print(numero1)\n",
    "\n",
    "        # output \n",
    "        3\n",
    "        \n",
    "        ```\n",
    "    - `or` : se tiene que cumplir **al menos una de las condiciones**\n",
    "\n",
    "        ```python\n",
    "        numero1 = 3\n",
    "        numero2 = 5\n",
    "\n",
    "        # en este caso se cumple la primera condición, pero no la segunda. Peeero como estamos usando un or, se tiene que cumplir al menos una de las condiciones para que nos haga la suma\n",
    "        if numero1 > 1 or numero2 > 10:\n",
    "            print(numero1 + numero2)\n",
    "        else: \n",
    "            print(numero1)\n",
    "\n",
    "        # output \n",
    "        8 \n",
    "        ```\n",
    "## `while` \n",
    "\n",
    "- El código se parará cuando la condición sea False. \n",
    "\n",
    "- Pueden ser infinitos, cuidado! \n",
    "\n",
    "- Se pueden incluir condiciones usando `if` ... `elif` ... `else` dentro del while."
   ]
  },
  {
   "cell_type": "code",
   "execution_count": null,
   "metadata": {
    "vscode": {
     "languageId": "plaintext"
    }
   },
   "outputs": [],
   "source": []
  },
  {
   "cell_type": "code",
   "execution_count": null,
   "metadata": {
    "vscode": {
     "languageId": "plaintext"
    }
   },
   "outputs": [],
   "source": []
  },
  {
   "cell_type": "code",
   "execution_count": null,
   "metadata": {
    "vscode": {
     "languageId": "plaintext"
    }
   },
   "outputs": [],
   "source": []
  },
  {
   "cell_type": "code",
   "execution_count": null,
   "metadata": {
    "vscode": {
     "languageId": "plaintext"
    }
   },
   "outputs": [],
   "source": []
  },
  {
   "cell_type": "code",
   "execution_count": null,
   "metadata": {
    "vscode": {
     "languageId": "plaintext"
    }
   },
   "outputs": [],
   "source": []
  },
  {
   "cell_type": "code",
   "execution_count": null,
   "metadata": {
    "vscode": {
     "languageId": "plaintext"
    }
   },
   "outputs": [],
   "source": []
  },
  {
   "cell_type": "code",
   "execution_count": null,
   "metadata": {
    "vscode": {
     "languageId": "plaintext"
    }
   },
   "outputs": [],
   "source": []
  },
  {
   "cell_type": "code",
   "execution_count": null,
   "metadata": {
    "vscode": {
     "languageId": "plaintext"
    }
   },
   "outputs": [],
   "source": []
  }
 ],
 "metadata": {
  "language_info": {
   "name": "python"
  }
 },
 "nbformat": 4,
 "nbformat_minor": 2
}
